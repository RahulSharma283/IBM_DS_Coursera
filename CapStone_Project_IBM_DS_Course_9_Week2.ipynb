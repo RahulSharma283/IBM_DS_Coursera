{
 "cells": [
  {
   "cell_type": "markdown",
   "metadata": {
    "colab_type": "text",
    "id": "6YFJkIKRG0ph"
   },
   "source": [
    "# This Notebook will be Utilized for CapStone Project"
   ]
  },
  {
   "cell_type": "markdown",
   "metadata": {
    "colab_type": "text",
    "id": "jm7IDy_NG0pi"
   },
   "source": [
    "## IBM Data Science Course 9"
   ]
  },
  {
   "cell_type": "markdown",
   "metadata": {
    "colab_type": "text",
    "id": "NKWkWM14G0pj"
   },
   "source": [
    "# Week 1"
   ]
  },
  {
   "cell_type": "markdown",
   "metadata": {},
   "source": [
    "Creating the Repository"
   ]
  },
  {
   "cell_type": "markdown",
   "metadata": {
    "colab_type": "text",
    "id": "NXkvfg0uGWTX"
   },
   "source": [
    "# Week 2"
   ]
  },
  {
   "attachments": {},
   "cell_type": "markdown",
   "metadata": {},
   "source": [
    "### Introduction/Business Problem:"
   ]
  },
  {
   "cell_type": "markdown",
   "metadata": {},
   "source": [
    "The aim of the project is to create a model which will be able to predict the \n",
    "Possibility and Severity of an accident depending upon Weather Conditions, \n",
    "Road Conditions and other relevant attributes so that you can drive more carefully."
   ]
  },
  {
   "attachments": {},
   "cell_type": "markdown",
   "metadata": {},
   "source": [
    "### Data Description:"
   ]
  },
  {
   "attachments": {},
   "cell_type": "markdown",
   "metadata": {},
   "source": [
    "The dataset being used is the one which is available in the capstone project. No external dataset has been used.\n",
    "\n",
    "Dataset contains records of all types of collisions recorded in Traffic records and shared by SDOT Traffic Management Division. Timeframe : 2004 to Present\n",
    "\n",
    "We will be performing extensive Exploratory Data Analysis and understand the variables distribution. Many of the attributes available are post facto and are for record keeping, which will be removed.\n",
    "\n",
    "We will be selecting the variables having information pertaining to cause of accidents and severity.\n",
    "\n",
    "There are a total of 194673 rows and 38 columns in the data.\n",
    "\n",
    "Target Variable : SEVERITYCODE"
   ]
  },
  {
   "cell_type": "markdown",
   "metadata": {
    "colab_type": "text",
    "id": "2KqIlw7uGWQT"
   },
   "source": [
    "# Week 3 WIP"
   ]
  },
  {
   "cell_type": "markdown",
   "metadata": {
    "colab_type": "text",
    "id": "JDM04BNO3eiw"
   },
   "source": [
    "### Importing Libraries and Creating Useful Fucntions"
   ]
  },
  {
   "cell_type": "code",
   "execution_count": 1,
   "metadata": {
    "colab": {
     "base_uri": "https://localhost:8080/",
     "height": 71
    },
    "colab_type": "code",
    "executionInfo": {
     "elapsed": 2214,
     "status": "ok",
     "timestamp": 1598344140623,
     "user": {
      "displayName": "Rahul Sharma",
      "photoUrl": "",
      "userId": "12186756602691074388"
     },
     "user_tz": -330
    },
    "id": "mlVXJYa8G0pj",
    "outputId": "b92a7af6-83fc-46f2-adc0-0b94f787101b"
   },
   "outputs": [
    {
     "name": "stderr",
     "output_type": "stream",
     "text": [
      "/usr/local/lib/python3.6/dist-packages/statsmodels/tools/_testing.py:19: FutureWarning: pandas.util.testing is deprecated. Use the functions in the public API at pandas.testing instead.\n",
      "  import pandas.util.testing as tm\n"
     ]
    }
   ],
   "source": [
    "import sys\n",
    "import pandas as pd\n",
    "import numpy as np\n",
    "import matplotlib.pyplot as plt\n",
    "import seaborn as sns\n",
    "import scipy\n",
    "import sklearn\n",
    "import datetime"
   ]
  },
  {
   "cell_type": "code",
   "execution_count": 2,
   "metadata": {
    "colab": {
     "base_uri": "https://localhost:8080/",
     "height": 34
    },
    "colab_type": "code",
    "executionInfo": {
     "elapsed": 2438,
     "status": "ok",
     "timestamp": 1598344146358,
     "user": {
      "displayName": "Rahul Sharma",
      "photoUrl": "",
      "userId": "12186756602691074388"
     },
     "user_tz": -330
    },
    "id": "hKG73MluG0pm",
    "outputId": "d04f2e8d-49b2-4800-a478-9081d597f834"
   },
   "outputs": [
    {
     "name": "stdout",
     "output_type": "stream",
     "text": [
      "Hello Capstone Project Course!\n"
     ]
    }
   ],
   "source": [
    "print(\"Hello Capstone Project Course!\")"
   ]
  },
  {
   "cell_type": "code",
   "execution_count": 3,
   "metadata": {
    "colab": {},
    "colab_type": "code",
    "executionInfo": {
     "elapsed": 1948,
     "status": "ok",
     "timestamp": 1598344149019,
     "user": {
      "displayName": "Rahul Sharma",
      "photoUrl": "",
      "userId": "12186756602691074388"
     },
     "user_tz": -330
    },
    "id": "h5OFO8wDG0pp"
   },
   "outputs": [],
   "source": [
    "#get iqr\n",
    "def iqr(x):\n",
    "    return x.quantile(q=0.75)-x.quantile(q=0.25)\n",
    "\n",
    "#get outliars x>75% quantile+1.5*IQR + x<25% quantile-1.5*IQR\n",
    "def outlier_cnt(x):\n",
    "    upper_cnt = x.quantile(q=0.75)+ 1.5*iqr(x)\n",
    "    lower_cnt = x.quantile(q=0.25)- 1.5*iqr(x)\n",
    "    return len(x[x>upper_cnt]) + len(x[x<lower_cnt])\n",
    "\n",
    "def remove_outlier(x):\n",
    "    upper_cnt = x.quantile(q=0.75) + 1.5*iqr\n",
    "    lower_cnt = x.quantile(q=0.25) - 1.5*iqr\n",
    "    return x[(x<=upper_cnt) & (x>=lower_cnt)]"
   ]
  },
  {
   "cell_type": "code",
   "execution_count": 4,
   "metadata": {
    "colab": {},
    "colab_type": "code",
    "executionInfo": {
     "elapsed": 2222,
     "status": "ok",
     "timestamp": 1598344166770,
     "user": {
      "displayName": "Rahul Sharma",
      "photoUrl": "",
      "userId": "12186756602691074388"
     },
     "user_tz": -330
    },
    "id": "oJtXTxj6G0pr"
   },
   "outputs": [],
   "source": [
    "#function to get dataframe information\n",
    "def data_information(x,todrop):\n",
    "    x1 = x.drop(todrop, axis=1)\n",
    "    \n",
    "    dict={}\n",
    "    dict['Number of Observation']= len(x1)\n",
    "    dict['Number of Variables']= len(x1.columns)\n",
    "    dict['Number of Numeric Variables']= len(x1.select_dtypes(include='number').columns)\n",
    "    dict['Number of Factor Variables']= len(x1.select_dtypes(include='category').columns)\n",
    "    dict['Number of Categorical Variables']= len(x1.select_dtypes(include='object').columns)\n",
    "    dict['Number of Date Variables']= len(x1.select_dtypes(include='datetime64').columns)\n",
    "    dict['Number of Logical Variables']= len(x1.select_dtypes(include='bool').columns)\n",
    "    #dict['Number of Zero Variance Variables']= \n",
    "    null_pct = pd.DataFrame(x1.isnull().sum()/x1.shape[0])\n",
    "    null_pct.columns = ['null_pct']\n",
    "    \n",
    "    dict['Num of Variables having complete cases']= null_pct[null_pct.null_pct==0].shape[0]\n",
    "    dict['Num of Variables with <=50Pct missing cases']= null_pct[null_pct.null_pct<=0.5].shape[0]\n",
    "    dict['Num of Variables with >50Pct missing cases']= null_pct[null_pct.null_pct>0.5].shape[0]\n",
    "    dict['Num of Variables with >90Pct missing cases']= null_pct[null_pct.null_pct>0.9].shape[0]\n",
    "\n",
    "    dict['Pct of Variables having complete cases']= null_pct[null_pct.null_pct==0].shape[0]*100/x1.shape[1]\n",
    "    dict['Pct of Variables with <=50Pct missing cases']= null_pct[null_pct.null_pct<=0.5].shape[0]*100/x1.shape[1]\n",
    "    dict['Pct of Variables with >50Pct missing cases']= null_pct[null_pct.null_pct>0.5].shape[0]*100/x1.shape[1]\n",
    "    dict['Pct of Variables with >90Pct missing cases']= null_pct[null_pct.null_pct>0.9].shape[0]*100/x1.shape[1]\n",
    "    \n",
    "    data_info = pd.DataFrame(dict, index=['Values'])\n",
    "    return data_info.T.round(2)"
   ]
  },
  {
   "cell_type": "code",
   "execution_count": 5,
   "metadata": {
    "colab": {},
    "colab_type": "code",
    "executionInfo": {
     "elapsed": 1302,
     "status": "ok",
     "timestamp": 1598344236363,
     "user": {
      "displayName": "Rahul Sharma",
      "photoUrl": "",
      "userId": "12186756602691074388"
     },
     "user_tz": -330
    },
    "id": "kSklDu9nG0pt"
   },
   "outputs": [],
   "source": [
    "#function for numerical analysis\n",
    "\n",
    "def num_univariate(x,todrop):\n",
    "    x1 = x.drop(todrop, axis=1)\n",
    "    \n",
    "    x1 = x1.select_dtypes(include='number')\n",
    "    data_num_info = pd.DataFrame()\n",
    "    \n",
    "    for i in x1.columns:\n",
    "        data_num_info.loc[i,'Negative Value Count']=x1[x1[i]<0].shape[0]\n",
    "        data_num_info.loc[i,'Positive Value Count']=x1[x1[i]>0].shape[0]\n",
    "        data_num_info.loc[i,'Zeros Count']=x1[x1[i]==0].shape[0]\n",
    "        data_num_info.loc[i,'Unique Count']=x1[i].unique().shape[0]\n",
    "        data_num_info.loc[i,'Missing Percent']=x1[i].isnull().sum()*100/x1.shape[0]\n",
    "        data_num_info.loc[i,'Count of Outliers']=outlier_cnt(x1[i])\n",
    "    return data_num_info.round(2)"
   ]
  },
  {
   "cell_type": "code",
   "execution_count": 6,
   "metadata": {
    "colab": {},
    "colab_type": "code",
    "executionInfo": {
     "elapsed": 1191,
     "status": "ok",
     "timestamp": 1598344239974,
     "user": {
      "displayName": "Rahul Sharma",
      "photoUrl": "",
      "userId": "12186756602691074388"
     },
     "user_tz": -330
    },
    "id": "dVTB5JZAG0pv"
   },
   "outputs": [],
   "source": [
    "#function for categorical analysis\n",
    "\n",
    "def cat_univariate(x,todrop):\n",
    "    x1 = x.drop(columns=todrop)\n",
    "    \n",
    "    x1 = x1.select_dtypes(include=['object','bool','category'])\n",
    "    data_cat_info = pd.DataFrame()\n",
    "    try: #incase any categorical variable is not present\n",
    "        for i in x1.columns:\n",
    "            data_cat_info.loc[i,'Unique Categories'] = x1[i].unique().shape[0]\n",
    "            data_cat_info.loc[i,'Missing Percent'] = x1[i].isnull().sum()*100/x1.shape[0]\n",
    "    except:\n",
    "        pass\n",
    "    return data_cat_info.round(2)"
   ]
  },
  {
   "cell_type": "code",
   "execution_count": 7,
   "metadata": {
    "colab": {},
    "colab_type": "code",
    "executionInfo": {
     "elapsed": 1512,
     "status": "ok",
     "timestamp": 1598344244253,
     "user": {
      "displayName": "Rahul Sharma",
      "photoUrl": "",
      "userId": "12186756602691074388"
     },
     "user_tz": -330
    },
    "id": "fmjVMPWLG0px"
   },
   "outputs": [],
   "source": [
    "#function for Statistical analysis\n",
    "\n",
    "def stats_data(x,todrop):\n",
    "    x1 = x.drop(todrop, axis=1)\n",
    "    \n",
    "    x1 = x1.select_dtypes(include='number')\n",
    "    data_stat_info = pd.DataFrame()\n",
    "    data_stat_info = x1.describe().T\n",
    "    \n",
    "    for i in x1.columns:\n",
    "        data_stat_info.loc[i,'10%'] = x1[i].quantile(q=0.1)\n",
    "        data_stat_info.loc[i,'90%'] = x1[i].quantile(q=0.9)\n",
    "        data_stat_info.loc[i,'99%'] = x1[i].quantile(q=0.99)\n",
    "        data_stat_info.loc[i,'outlier_count'] = outlier_cnt(x1[i])\n",
    "        \n",
    "    \n",
    "    return data_stat_info.round(2)"
   ]
  },
  {
   "cell_type": "code",
   "execution_count": 8,
   "metadata": {
    "colab": {},
    "colab_type": "code",
    "executionInfo": {
     "elapsed": 1564,
     "status": "ok",
     "timestamp": 1598344256256,
     "user": {
      "displayName": "Rahul Sharma",
      "photoUrl": "",
      "userId": "12186756602691074388"
     },
     "user_tz": -330
    },
    "id": "-EBD1i-qG0p0"
   },
   "outputs": [],
   "source": [
    "#function for numerical data exploration\n",
    "\n",
    "def num_check(x, todrop, group):\n",
    "    x1 = x.drop(columns=todrop)\n",
    "    \n",
    "    x1 = x1.select_dtypes(include='number')\n",
    "    \n",
    "    for g in group:\n",
    "        summary = pd.DataFrame()\n",
    "        for i in x1.columns:\n",
    "            sub_summary = x1.groupby(g)[i].describe().reset_index()\n",
    "            sub_summary['Variable'] = i\n",
    "            summary = sub_summary.append(summary)\n",
    "        summary = summary.set_index(['Variable',g])\n",
    "    return summary.round(2)"
   ]
  },
  {
   "cell_type": "code",
   "execution_count": 9,
   "metadata": {
    "colab": {},
    "colab_type": "code",
    "executionInfo": {
     "elapsed": 1397,
     "status": "ok",
     "timestamp": 1598344273682,
     "user": {
      "displayName": "Rahul Sharma",
      "photoUrl": "",
      "userId": "12186756602691074388"
     },
     "user_tz": -330
    },
    "id": "7g-_s8s2G0p2"
   },
   "outputs": [],
   "source": [
    "#create classes to data visualization\n",
    "\n",
    "class plotting(object):\n",
    "    def __init__(self,x):\n",
    "        self.x = x\n",
    "        \n",
    "    def num_plt(self):\n",
    "        bins = max(round(self.x.nunique()/100),min(round(self.x.nunique()),10))\n",
    "        plt1 = sns.distplot(self.x,hist=True,kde=True,bins=bins,color='C4',rug=False)\n",
    "        plt.xticks(rotation=45)\n",
    "        \n",
    "    def wo_outlier_num_plt(self):\n",
    "        self.x= remove_outlier(self.x)\n",
    "        bins = max(round(self.x.nunique()/100),min(round(self.x.nunique()),10))\n",
    "        plt2 = sns.distplot(self.x,hist=True,kde=True,bins=bins,color='C2',rug=False)\n",
    "        plt.xticks(rotation=45)\n",
    "        \n",
    "    def cat_plt(self):\n",
    "        plt.hist(self.x)\n",
    "        plt.xticks(rotation=90)\n",
    "        \n",
    "    def distrib_plt(self):\n",
    "        if self.x.dtypes == 'bool' or self.x.dtypes=='object':\n",
    "            self.cat_plt()\n",
    "        else:\n",
    "            self.num_plt()\n",
    "    \n",
    "    def wo_outlier_distrib_plt(self):\n",
    "        if self.x.dtypes == 'bool' or self.x.dtypes=='object':\n",
    "            self.cat_plt()\n",
    "        else:\n",
    "            self.wo_outlier_num_plt()\n",
    "            \n",
    "class plotted(object):\n",
    "    def __init__(self,x, todrop):\n",
    "        self.x=x\n",
    "        self.todrop=todrop\n",
    "        \n",
    "    def density_plt(self):\n",
    "        d = self.x.drop(columns=self.todrop)\n",
    "        \n",
    "        for i in d.columns:\n",
    "            plotting(d[d[i].notnull()][i]).distrib_plt()\n",
    "            plt.xlabel(i)\n",
    "            plt.ylabel('Count')\n",
    "            plt.show()\n",
    "            \n",
    "    def wo_outlier_density_plt(self):\n",
    "        d = self.x.drop(columns=self.todrop)\n",
    "        \n",
    "        for i in d.columns:\n",
    "            plotting(d[d[i].notnull()][i]).wo_outlier_distrib_plt()\n",
    "            plt.xlabel(i)\n",
    "            plt.ylabel('Count')\n",
    "            plt.show()\n",
    "            \n",
    "    def box_plt(self):\n",
    "        d = self.x.drop(columns=self.todrop)\n",
    "        d = self.x.select_dtypes(include='number')\n",
    "        \n",
    "        for i in d.columns:\n",
    "            sns.boxplot(d[d[i].notnull()][i],orient='v')\n",
    "            plt.xlabel(i)\n",
    "            plt.ylabel('Value')\n",
    "            plt.show()\n",
    "            \n",
    "    def wo_outlier_box_plt(self):\n",
    "        d = self.x.drop(columns=self.todrop)\n",
    "        d = self.x.select_dtypes(include='number')\n",
    "        \n",
    "        for i in d.columns:\n",
    "            sns.boxplot(remove_outlier(d[d[i].notnull()][i]),orient='v')\n",
    "            plt.xlabel(i)\n",
    "            plt.ylabel('Value')\n",
    "            plt.show()"
   ]
  },
  {
   "cell_type": "markdown",
   "metadata": {
    "colab_type": "text",
    "id": "EXAwKevx3osC"
   },
   "source": [
    "###Get the data"
   ]
  },
  {
   "cell_type": "code",
   "execution_count": 10,
   "metadata": {
    "colab": {
     "base_uri": "https://localhost:8080/",
     "height": 122
    },
    "colab_type": "code",
    "executionInfo": {
     "elapsed": 27598,
     "status": "ok",
     "timestamp": 1598344317272,
     "user": {
      "displayName": "Rahul Sharma",
      "photoUrl": "",
      "userId": "12186756602691074388"
     },
     "user_tz": -330
    },
    "id": "G7uQFvo8G0p8",
    "outputId": "d3913a15-0362-41ef-de5e-86f07da8d4b4"
   },
   "outputs": [
    {
     "name": "stdout",
     "output_type": "stream",
     "text": [
      "Go to this URL in a browser: https://accounts.google.com/o/oauth2/auth?client_id=947318989803-6bn6qk8qdgf4n4g3pfee6491hc0brc4i.apps.googleusercontent.com&redirect_uri=urn%3aietf%3awg%3aoauth%3a2.0%3aoob&scope=email%20https%3a%2f%2fwww.googleapis.com%2fauth%2fdocs.test%20https%3a%2f%2fwww.googleapis.com%2fauth%2fdrive%20https%3a%2f%2fwww.googleapis.com%2fauth%2fdrive.photos.readonly%20https%3a%2f%2fwww.googleapis.com%2fauth%2fpeopleapi.readonly&response_type=code\n",
      "\n",
      "Enter your authorization code:\n",
      "··········\n",
      "Mounted at /content/drive/\n"
     ]
    }
   ],
   "source": [
    "#Unizipping the data from google drive \n",
    "import zipfile\n",
    "from google.colab import drive\n",
    "\n",
    "drive.mount('/content/drive/')\n",
    "\n",
    "zip_ref = zipfile.ZipFile(\"/content/drive/My Drive/Data-Collisions.csv.zip\", 'r')\n",
    "zip_ref.extractall(\"/content/drive/My Drive/Unzippeddata\")\n",
    "zip_ref.close()\n",
    "\n",
    "#data_path = r\"/Users/rahulsharma/Downloads/Data-Collisions.csv\";\n",
    "#df = pd.read_csv(data_path)\n",
    "#df.tail()"
   ]
  },
  {
   "cell_type": "code",
   "execution_count": 130,
   "metadata": {
    "colab": {
     "base_uri": "https://localhost:8080/",
     "height": 649
    },
    "colab_type": "code",
    "executionInfo": {
     "elapsed": 2980,
     "status": "ok",
     "timestamp": 1598348005050,
     "user": {
      "displayName": "Rahul Sharma",
      "photoUrl": "",
      "userId": "12186756602691074388"
     },
     "user_tz": -330
    },
    "id": "_DeKniSiLcpc",
    "outputId": "9b7c6de8-25cb-4a64-d2d5-4e269e44abdc"
   },
   "outputs": [
    {
     "data": {
      "text/html": [
       "<div>\n",
       "<style scoped>\n",
       "    .dataframe tbody tr th:only-of-type {\n",
       "        vertical-align: middle;\n",
       "    }\n",
       "\n",
       "    .dataframe tbody tr th {\n",
       "        vertical-align: top;\n",
       "    }\n",
       "\n",
       "    .dataframe thead th {\n",
       "        text-align: right;\n",
       "    }\n",
       "</style>\n",
       "<table border=\"1\" class=\"dataframe\">\n",
       "  <thead>\n",
       "    <tr style=\"text-align: right;\">\n",
       "      <th></th>\n",
       "      <th>SEVERITYCODE</th>\n",
       "      <th>X</th>\n",
       "      <th>Y</th>\n",
       "      <th>OBJECTID</th>\n",
       "      <th>INCKEY</th>\n",
       "      <th>COLDETKEY</th>\n",
       "      <th>REPORTNO</th>\n",
       "      <th>STATUS</th>\n",
       "      <th>ADDRTYPE</th>\n",
       "      <th>INTKEY</th>\n",
       "      <th>LOCATION</th>\n",
       "      <th>EXCEPTRSNCODE</th>\n",
       "      <th>EXCEPTRSNDESC</th>\n",
       "      <th>SEVERITYCODE.1</th>\n",
       "      <th>SEVERITYDESC</th>\n",
       "      <th>COLLISIONTYPE</th>\n",
       "      <th>PERSONCOUNT</th>\n",
       "      <th>PEDCOUNT</th>\n",
       "      <th>PEDCYLCOUNT</th>\n",
       "      <th>VEHCOUNT</th>\n",
       "      <th>INCDATE</th>\n",
       "      <th>INCDTTM</th>\n",
       "      <th>JUNCTIONTYPE</th>\n",
       "      <th>SDOT_COLCODE</th>\n",
       "      <th>SDOT_COLDESC</th>\n",
       "      <th>INATTENTIONIND</th>\n",
       "      <th>UNDERINFL</th>\n",
       "      <th>WEATHER</th>\n",
       "      <th>ROADCOND</th>\n",
       "      <th>LIGHTCOND</th>\n",
       "      <th>PEDROWNOTGRNT</th>\n",
       "      <th>SDOTCOLNUM</th>\n",
       "      <th>SPEEDING</th>\n",
       "      <th>ST_COLCODE</th>\n",
       "      <th>ST_COLDESC</th>\n",
       "      <th>SEGLANEKEY</th>\n",
       "      <th>CROSSWALKKEY</th>\n",
       "      <th>HITPARKEDCAR</th>\n",
       "    </tr>\n",
       "  </thead>\n",
       "  <tbody>\n",
       "    <tr>\n",
       "      <th>194668</th>\n",
       "      <td>2</td>\n",
       "      <td>-122.290826</td>\n",
       "      <td>47.565408</td>\n",
       "      <td>219543</td>\n",
       "      <td>309534</td>\n",
       "      <td>310814</td>\n",
       "      <td>E871089</td>\n",
       "      <td>Matched</td>\n",
       "      <td>Block</td>\n",
       "      <td>NaN</td>\n",
       "      <td>34TH AVE S BETWEEN S DAKOTA ST AND S GENESEE ST</td>\n",
       "      <td></td>\n",
       "      <td>NaN</td>\n",
       "      <td>2</td>\n",
       "      <td>Injury Collision</td>\n",
       "      <td>Head On</td>\n",
       "      <td>3</td>\n",
       "      <td>0</td>\n",
       "      <td>0</td>\n",
       "      <td>2</td>\n",
       "      <td>2018/11/12 00:00:00+00</td>\n",
       "      <td>11/12/2018 8:12:00 AM</td>\n",
       "      <td>Mid-Block (not related to intersection)</td>\n",
       "      <td>11</td>\n",
       "      <td>MOTOR VEHICLE STRUCK MOTOR VEHICLE, FRONT END ...</td>\n",
       "      <td>NaN</td>\n",
       "      <td>N</td>\n",
       "      <td>Clear</td>\n",
       "      <td>Dry</td>\n",
       "      <td>Daylight</td>\n",
       "      <td>NaN</td>\n",
       "      <td>NaN</td>\n",
       "      <td>NaN</td>\n",
       "      <td>24</td>\n",
       "      <td>From opposite direction - both moving - head-on</td>\n",
       "      <td>0</td>\n",
       "      <td>0</td>\n",
       "      <td>N</td>\n",
       "    </tr>\n",
       "    <tr>\n",
       "      <th>194669</th>\n",
       "      <td>1</td>\n",
       "      <td>-122.344526</td>\n",
       "      <td>47.690924</td>\n",
       "      <td>219544</td>\n",
       "      <td>309085</td>\n",
       "      <td>310365</td>\n",
       "      <td>E876731</td>\n",
       "      <td>Matched</td>\n",
       "      <td>Block</td>\n",
       "      <td>NaN</td>\n",
       "      <td>AURORA AVE N BETWEEN N 85TH ST AND N 86TH ST</td>\n",
       "      <td></td>\n",
       "      <td>NaN</td>\n",
       "      <td>1</td>\n",
       "      <td>Property Damage Only Collision</td>\n",
       "      <td>Rear Ended</td>\n",
       "      <td>2</td>\n",
       "      <td>0</td>\n",
       "      <td>0</td>\n",
       "      <td>2</td>\n",
       "      <td>2018/12/18 00:00:00+00</td>\n",
       "      <td>12/18/2018 9:14:00 AM</td>\n",
       "      <td>Mid-Block (not related to intersection)</td>\n",
       "      <td>14</td>\n",
       "      <td>MOTOR VEHICLE STRUCK MOTOR VEHICLE, REAR END</td>\n",
       "      <td>Y</td>\n",
       "      <td>N</td>\n",
       "      <td>Raining</td>\n",
       "      <td>Wet</td>\n",
       "      <td>Daylight</td>\n",
       "      <td>NaN</td>\n",
       "      <td>NaN</td>\n",
       "      <td>NaN</td>\n",
       "      <td>13</td>\n",
       "      <td>From same direction - both going straight - bo...</td>\n",
       "      <td>0</td>\n",
       "      <td>0</td>\n",
       "      <td>N</td>\n",
       "    </tr>\n",
       "    <tr>\n",
       "      <th>194670</th>\n",
       "      <td>2</td>\n",
       "      <td>-122.306689</td>\n",
       "      <td>47.683047</td>\n",
       "      <td>219545</td>\n",
       "      <td>311280</td>\n",
       "      <td>312640</td>\n",
       "      <td>3809984</td>\n",
       "      <td>Matched</td>\n",
       "      <td>Intersection</td>\n",
       "      <td>24760.0</td>\n",
       "      <td>20TH AVE NE AND NE 75TH ST</td>\n",
       "      <td></td>\n",
       "      <td>NaN</td>\n",
       "      <td>2</td>\n",
       "      <td>Injury Collision</td>\n",
       "      <td>Left Turn</td>\n",
       "      <td>3</td>\n",
       "      <td>0</td>\n",
       "      <td>0</td>\n",
       "      <td>2</td>\n",
       "      <td>2019/01/19 00:00:00+00</td>\n",
       "      <td>1/19/2019 9:25:00 AM</td>\n",
       "      <td>At Intersection (intersection related)</td>\n",
       "      <td>11</td>\n",
       "      <td>MOTOR VEHICLE STRUCK MOTOR VEHICLE, FRONT END ...</td>\n",
       "      <td>NaN</td>\n",
       "      <td>N</td>\n",
       "      <td>Clear</td>\n",
       "      <td>Dry</td>\n",
       "      <td>Daylight</td>\n",
       "      <td>NaN</td>\n",
       "      <td>NaN</td>\n",
       "      <td>NaN</td>\n",
       "      <td>28</td>\n",
       "      <td>From opposite direction - one left turn - one ...</td>\n",
       "      <td>0</td>\n",
       "      <td>0</td>\n",
       "      <td>N</td>\n",
       "    </tr>\n",
       "    <tr>\n",
       "      <th>194671</th>\n",
       "      <td>2</td>\n",
       "      <td>-122.355317</td>\n",
       "      <td>47.678734</td>\n",
       "      <td>219546</td>\n",
       "      <td>309514</td>\n",
       "      <td>310794</td>\n",
       "      <td>3810083</td>\n",
       "      <td>Matched</td>\n",
       "      <td>Intersection</td>\n",
       "      <td>24349.0</td>\n",
       "      <td>GREENWOOD AVE N AND N 68TH ST</td>\n",
       "      <td></td>\n",
       "      <td>NaN</td>\n",
       "      <td>2</td>\n",
       "      <td>Injury Collision</td>\n",
       "      <td>Cycles</td>\n",
       "      <td>2</td>\n",
       "      <td>0</td>\n",
       "      <td>1</td>\n",
       "      <td>1</td>\n",
       "      <td>2019/01/15 00:00:00+00</td>\n",
       "      <td>1/15/2019 4:48:00 PM</td>\n",
       "      <td>At Intersection (intersection related)</td>\n",
       "      <td>51</td>\n",
       "      <td>PEDALCYCLIST STRUCK MOTOR VEHICLE FRONT END AT...</td>\n",
       "      <td>NaN</td>\n",
       "      <td>N</td>\n",
       "      <td>Clear</td>\n",
       "      <td>Dry</td>\n",
       "      <td>Dusk</td>\n",
       "      <td>NaN</td>\n",
       "      <td>NaN</td>\n",
       "      <td>NaN</td>\n",
       "      <td>5</td>\n",
       "      <td>Vehicle Strikes Pedalcyclist</td>\n",
       "      <td>4308</td>\n",
       "      <td>0</td>\n",
       "      <td>N</td>\n",
       "    </tr>\n",
       "    <tr>\n",
       "      <th>194672</th>\n",
       "      <td>1</td>\n",
       "      <td>-122.289360</td>\n",
       "      <td>47.611017</td>\n",
       "      <td>219547</td>\n",
       "      <td>308220</td>\n",
       "      <td>309500</td>\n",
       "      <td>E868008</td>\n",
       "      <td>Matched</td>\n",
       "      <td>Block</td>\n",
       "      <td>NaN</td>\n",
       "      <td>34TH AVE BETWEEN E MARION ST AND E SPRING ST</td>\n",
       "      <td></td>\n",
       "      <td>NaN</td>\n",
       "      <td>1</td>\n",
       "      <td>Property Damage Only Collision</td>\n",
       "      <td>Rear Ended</td>\n",
       "      <td>2</td>\n",
       "      <td>0</td>\n",
       "      <td>0</td>\n",
       "      <td>2</td>\n",
       "      <td>2018/11/30 00:00:00+00</td>\n",
       "      <td>11/30/2018 3:45:00 PM</td>\n",
       "      <td>Mid-Block (not related to intersection)</td>\n",
       "      <td>14</td>\n",
       "      <td>MOTOR VEHICLE STRUCK MOTOR VEHICLE, REAR END</td>\n",
       "      <td>NaN</td>\n",
       "      <td>N</td>\n",
       "      <td>Clear</td>\n",
       "      <td>Wet</td>\n",
       "      <td>Daylight</td>\n",
       "      <td>NaN</td>\n",
       "      <td>NaN</td>\n",
       "      <td>NaN</td>\n",
       "      <td>14</td>\n",
       "      <td>From same direction - both going straight - on...</td>\n",
       "      <td>0</td>\n",
       "      <td>0</td>\n",
       "      <td>N</td>\n",
       "    </tr>\n",
       "  </tbody>\n",
       "</table>\n",
       "</div>"
      ],
      "text/plain": [
       "        SEVERITYCODE           X  ...  CROSSWALKKEY  HITPARKEDCAR\n",
       "194668             2 -122.290826  ...             0             N\n",
       "194669             1 -122.344526  ...             0             N\n",
       "194670             2 -122.306689  ...             0             N\n",
       "194671             2 -122.355317  ...             0             N\n",
       "194672             1 -122.289360  ...             0             N\n",
       "\n",
       "[5 rows x 38 columns]"
      ]
     },
     "execution_count": 130,
     "metadata": {
      "tags": []
     },
     "output_type": "execute_result"
    }
   ],
   "source": [
    "#reading the data from drive\n",
    "df = pd.read_csv(r\"/content/drive/My Drive/Unzippeddata/Data-Collisions.csv\", low_memory=False)\n",
    "df.tail()"
   ]
  },
  {
   "cell_type": "code",
   "execution_count": 12,
   "metadata": {
    "colab": {
     "base_uri": "https://localhost:8080/",
     "height": 34
    },
    "colab_type": "code",
    "executionInfo": {
     "elapsed": 910,
     "status": "ok",
     "timestamp": 1598344333523,
     "user": {
      "displayName": "Rahul Sharma",
      "photoUrl": "",
      "userId": "12186756602691074388"
     },
     "user_tz": -330
    },
    "id": "I4lXBr7evCmN",
    "outputId": "4c9a39e7-e015-4f39-a3b2-6ce83849a633"
   },
   "outputs": [
    {
     "data": {
      "text/plain": [
       "(194673, 38)"
      ]
     },
     "execution_count": 12,
     "metadata": {
      "tags": []
     },
     "output_type": "execute_result"
    }
   ],
   "source": [
    "df.shape"
   ]
  },
  {
   "cell_type": "code",
   "execution_count": 13,
   "metadata": {
    "colab": {
     "base_uri": "https://localhost:8080/",
     "height": 663
    },
    "colab_type": "code",
    "executionInfo": {
     "elapsed": 1205,
     "status": "ok",
     "timestamp": 1598344337132,
     "user": {
      "displayName": "Rahul Sharma",
      "photoUrl": "",
      "userId": "12186756602691074388"
     },
     "user_tz": -330
    },
    "id": "BZpa9__9G0p_",
    "outputId": "dbd15dd1-c60d-45d6-f44b-0a3a5aa50984"
   },
   "outputs": [
    {
     "data": {
      "text/plain": [
       "['SEVERITYCODE',\n",
       " 'X',\n",
       " 'Y',\n",
       " 'OBJECTID',\n",
       " 'INCKEY',\n",
       " 'COLDETKEY',\n",
       " 'REPORTNO',\n",
       " 'STATUS',\n",
       " 'ADDRTYPE',\n",
       " 'INTKEY',\n",
       " 'LOCATION',\n",
       " 'EXCEPTRSNCODE',\n",
       " 'EXCEPTRSNDESC',\n",
       " 'SEVERITYCODE.1',\n",
       " 'SEVERITYDESC',\n",
       " 'COLLISIONTYPE',\n",
       " 'PERSONCOUNT',\n",
       " 'PEDCOUNT',\n",
       " 'PEDCYLCOUNT',\n",
       " 'VEHCOUNT',\n",
       " 'INCDATE',\n",
       " 'INCDTTM',\n",
       " 'JUNCTIONTYPE',\n",
       " 'SDOT_COLCODE',\n",
       " 'SDOT_COLDESC',\n",
       " 'INATTENTIONIND',\n",
       " 'UNDERINFL',\n",
       " 'WEATHER',\n",
       " 'ROADCOND',\n",
       " 'LIGHTCOND',\n",
       " 'PEDROWNOTGRNT',\n",
       " 'SDOTCOLNUM',\n",
       " 'SPEEDING',\n",
       " 'ST_COLCODE',\n",
       " 'ST_COLDESC',\n",
       " 'SEGLANEKEY',\n",
       " 'CROSSWALKKEY',\n",
       " 'HITPARKEDCAR']"
      ]
     },
     "execution_count": 13,
     "metadata": {
      "tags": []
     },
     "output_type": "execute_result"
    }
   ],
   "source": [
    "#getting column list\n",
    "df.columns.tolist()"
   ]
  },
  {
   "cell_type": "markdown",
   "metadata": {
    "colab_type": "text",
    "id": "UtzRj6DOG0qB"
   },
   "source": [
    "### Understanding Target Variable"
   ]
  },
  {
   "cell_type": "code",
   "execution_count": 14,
   "metadata": {
    "colab": {
     "base_uri": "https://localhost:8080/",
     "height": 170
    },
    "colab_type": "code",
    "executionInfo": {
     "elapsed": 1214,
     "status": "ok",
     "timestamp": 1598344372331,
     "user": {
      "displayName": "Rahul Sharma",
      "photoUrl": "",
      "userId": "12186756602691074388"
     },
     "user_tz": -330
    },
    "id": "tgku3iFVG0qB",
    "outputId": "d5948cd7-67c7-4e92-9ddd-ee7854bb8ea2"
   },
   "outputs": [
    {
     "data": {
      "text/plain": [
       "count    194673.000000\n",
       "mean          1.298901\n",
       "std           0.457778\n",
       "min           1.000000\n",
       "25%           1.000000\n",
       "50%           1.000000\n",
       "75%           2.000000\n",
       "max           2.000000\n",
       "Name: SEVERITYCODE, dtype: float64"
      ]
     },
     "execution_count": 14,
     "metadata": {
      "tags": []
     },
     "output_type": "execute_result"
    }
   ],
   "source": [
    "df['SEVERITYCODE'].describe()"
   ]
  },
  {
   "cell_type": "code",
   "execution_count": 15,
   "metadata": {
    "colab": {
     "base_uri": "https://localhost:8080/",
     "height": 68
    },
    "colab_type": "code",
    "executionInfo": {
     "elapsed": 1383,
     "status": "ok",
     "timestamp": 1598344374818,
     "user": {
      "displayName": "Rahul Sharma",
      "photoUrl": "",
      "userId": "12186756602691074388"
     },
     "user_tz": -330
    },
    "id": "gqRq0M2YG0qD",
    "outputId": "825f1788-bbb0-49a8-8a81-d842f9774dcc"
   },
   "outputs": [
    {
     "data": {
      "text/plain": [
       "1    136485\n",
       "2     58188\n",
       "Name: SEVERITYCODE, dtype: int64"
      ]
     },
     "execution_count": 15,
     "metadata": {
      "tags": []
     },
     "output_type": "execute_result"
    }
   ],
   "source": [
    "df['SEVERITYCODE'].value_counts()"
   ]
  },
  {
   "cell_type": "code",
   "execution_count": 18,
   "metadata": {
    "colab": {
     "base_uri": "https://localhost:8080/",
     "height": 296
    },
    "colab_type": "code",
    "executionInfo": {
     "elapsed": 1212,
     "status": "ok",
     "timestamp": 1598344438820,
     "user": {
      "displayName": "Rahul Sharma",
      "photoUrl": "",
      "userId": "12186756602691074388"
     },
     "user_tz": -330
    },
    "id": "-2hUA_FdG0qF",
    "outputId": "5730bd00-0fd9-47b3-808a-74ee53149179"
   },
   "outputs": [
    {
     "data": {
      "text/plain": [
       "<matplotlib.axes._subplots.AxesSubplot at 0x7f55f1ebef60>"
      ]
     },
     "execution_count": 18,
     "metadata": {
      "tags": []
     },
     "output_type": "execute_result"
    },
    {
     "data": {
      "image/png": "[encoded data removed]",
      "text/plain": [
       "<Figure size 432x288 with 1 Axes>"
      ]
     },
     "metadata": {
      "needs_background": "light",
      "tags": []
     },
     "output_type": "display_data"
    }
   ],
   "source": [
    "sns.countplot(df['SEVERITYCODE'], color='C1')"
   ]
  },
  {
   "cell_type": "markdown",
   "metadata": {
    "colab_type": "text",
    "id": "mvd-5PsVG0qH"
   },
   "source": [
    "### Analyzing Attributes : Univariate Analysis"
   ]
  },
  {
   "cell_type": "code",
   "execution_count": 19,
   "metadata": {
    "colab": {
     "base_uri": "https://localhost:8080/",
     "height": 514
    },
    "colab_type": "code",
    "executionInfo": {
     "elapsed": 1214,
     "status": "ok",
     "timestamp": 1598344456781,
     "user": {
      "displayName": "Rahul Sharma",
      "photoUrl": "",
      "userId": "12186756602691074388"
     },
     "user_tz": -330
    },
    "id": "cdg50IcNG0qI",
    "outputId": "684f567b-afde-41cd-c40c-511e64920090"
   },
   "outputs": [
    {
     "data": {
      "text/html": [
       "<div>\n",
       "<style scoped>\n",
       "    .dataframe tbody tr th:only-of-type {\n",
       "        vertical-align: middle;\n",
       "    }\n",
       "\n",
       "    .dataframe tbody tr th {\n",
       "        vertical-align: top;\n",
       "    }\n",
       "\n",
       "    .dataframe thead th {\n",
       "        text-align: right;\n",
       "    }\n",
       "</style>\n",
       "<table border=\"1\" class=\"dataframe\">\n",
       "  <thead>\n",
       "    <tr style=\"text-align: right;\">\n",
       "      <th></th>\n",
       "      <th>Values</th>\n",
       "    </tr>\n",
       "  </thead>\n",
       "  <tbody>\n",
       "    <tr>\n",
       "      <th>Number of Observation</th>\n",
       "      <td>194673.00</td>\n",
       "    </tr>\n",
       "    <tr>\n",
       "      <th>Number of Variables</th>\n",
       "      <td>37.00</td>\n",
       "    </tr>\n",
       "    <tr>\n",
       "      <th>Number of Numeric Variables</th>\n",
       "      <td>15.00</td>\n",
       "    </tr>\n",
       "    <tr>\n",
       "      <th>Number of Factor Variables</th>\n",
       "      <td>0.00</td>\n",
       "    </tr>\n",
       "    <tr>\n",
       "      <th>Number of Categorical Variables</th>\n",
       "      <td>22.00</td>\n",
       "    </tr>\n",
       "    <tr>\n",
       "      <th>Number of Date Variables</th>\n",
       "      <td>0.00</td>\n",
       "    </tr>\n",
       "    <tr>\n",
       "      <th>Number of Logical Variables</th>\n",
       "      <td>0.00</td>\n",
       "    </tr>\n",
       "    <tr>\n",
       "      <th>Num of Variables having complete cases</th>\n",
       "      <td>18.00</td>\n",
       "    </tr>\n",
       "    <tr>\n",
       "      <th>Num of Variables with &lt;=50Pct missing cases</th>\n",
       "      <td>31.00</td>\n",
       "    </tr>\n",
       "    <tr>\n",
       "      <th>Num of Variables with &gt;50Pct missing cases</th>\n",
       "      <td>6.00</td>\n",
       "    </tr>\n",
       "    <tr>\n",
       "      <th>Num of Variables with &gt;90Pct missing cases</th>\n",
       "      <td>3.00</td>\n",
       "    </tr>\n",
       "    <tr>\n",
       "      <th>Pct of Variables having complete cases</th>\n",
       "      <td>48.65</td>\n",
       "    </tr>\n",
       "    <tr>\n",
       "      <th>Pct of Variables with &lt;=50Pct missing cases</th>\n",
       "      <td>83.78</td>\n",
       "    </tr>\n",
       "    <tr>\n",
       "      <th>Pct of Variables with &gt;50Pct missing cases</th>\n",
       "      <td>16.22</td>\n",
       "    </tr>\n",
       "    <tr>\n",
       "      <th>Pct of Variables with &gt;90Pct missing cases</th>\n",
       "      <td>8.11</td>\n",
       "    </tr>\n",
       "  </tbody>\n",
       "</table>\n",
       "</div>"
      ],
      "text/plain": [
       "                                                Values\n",
       "Number of Observation                        194673.00\n",
       "Number of Variables                              37.00\n",
       "Number of Numeric Variables                      15.00\n",
       "Number of Factor Variables                        0.00\n",
       "Number of Categorical Variables                  22.00\n",
       "Number of Date Variables                          0.00\n",
       "Number of Logical Variables                       0.00\n",
       "Num of Variables having complete cases           18.00\n",
       "Num of Variables with <=50Pct missing cases      31.00\n",
       "Num of Variables with >50Pct missing cases        6.00\n",
       "Num of Variables with >90Pct missing cases        3.00\n",
       "Pct of Variables having complete cases           48.65\n",
       "Pct of Variables with <=50Pct missing cases      83.78\n",
       "Pct of Variables with >50Pct missing cases       16.22\n",
       "Pct of Variables with >90Pct missing cases        8.11"
      ]
     },
     "execution_count": 19,
     "metadata": {
      "tags": []
     },
     "output_type": "execute_result"
    }
   ],
   "source": [
    "data_information(df,['SEVERITYCODE'])"
   ]
  },
  {
   "cell_type": "code",
   "execution_count": 20,
   "metadata": {
    "colab": {
     "base_uri": "https://localhost:8080/",
     "height": 531
    },
    "colab_type": "code",
    "executionInfo": {
     "elapsed": 1960,
     "status": "ok",
     "timestamp": 1598344478929,
     "user": {
      "displayName": "Rahul Sharma",
      "photoUrl": "",
      "userId": "12186756602691074388"
     },
     "user_tz": -330
    },
    "id": "eYzzoxAPG0qJ",
    "outputId": "c31e81ee-3cd1-477e-e7f1-f4c9db40686a"
   },
   "outputs": [
    {
     "data": {
      "text/html": [
       "<div>\n",
       "<style scoped>\n",
       "    .dataframe tbody tr th:only-of-type {\n",
       "        vertical-align: middle;\n",
       "    }\n",
       "\n",
       "    .dataframe tbody tr th {\n",
       "        vertical-align: top;\n",
       "    }\n",
       "\n",
       "    .dataframe thead th {\n",
       "        text-align: right;\n",
       "    }\n",
       "</style>\n",
       "<table border=\"1\" class=\"dataframe\">\n",
       "  <thead>\n",
       "    <tr style=\"text-align: right;\">\n",
       "      <th></th>\n",
       "      <th>Negative Value Count</th>\n",
       "      <th>Positive Value Count</th>\n",
       "      <th>Zeros Count</th>\n",
       "      <th>Unique Count</th>\n",
       "      <th>Missing Percent</th>\n",
       "      <th>Count of Outliers</th>\n",
       "    </tr>\n",
       "  </thead>\n",
       "  <tbody>\n",
       "    <tr>\n",
       "      <th>X</th>\n",
       "      <td>189339.0</td>\n",
       "      <td>0.0</td>\n",
       "      <td>0.0</td>\n",
       "      <td>23564.0</td>\n",
       "      <td>2.74</td>\n",
       "      <td>1560.0</td>\n",
       "    </tr>\n",
       "    <tr>\n",
       "      <th>Y</th>\n",
       "      <td>0.0</td>\n",
       "      <td>189339.0</td>\n",
       "      <td>0.0</td>\n",
       "      <td>23840.0</td>\n",
       "      <td>2.74</td>\n",
       "      <td>0.0</td>\n",
       "    </tr>\n",
       "    <tr>\n",
       "      <th>OBJECTID</th>\n",
       "      <td>0.0</td>\n",
       "      <td>194673.0</td>\n",
       "      <td>0.0</td>\n",
       "      <td>194673.0</td>\n",
       "      <td>0.00</td>\n",
       "      <td>0.0</td>\n",
       "    </tr>\n",
       "    <tr>\n",
       "      <th>INCKEY</th>\n",
       "      <td>0.0</td>\n",
       "      <td>194673.0</td>\n",
       "      <td>0.0</td>\n",
       "      <td>194673.0</td>\n",
       "      <td>0.00</td>\n",
       "      <td>0.0</td>\n",
       "    </tr>\n",
       "    <tr>\n",
       "      <th>COLDETKEY</th>\n",
       "      <td>0.0</td>\n",
       "      <td>194673.0</td>\n",
       "      <td>0.0</td>\n",
       "      <td>194673.0</td>\n",
       "      <td>0.00</td>\n",
       "      <td>0.0</td>\n",
       "    </tr>\n",
       "    <tr>\n",
       "      <th>INTKEY</th>\n",
       "      <td>0.0</td>\n",
       "      <td>65070.0</td>\n",
       "      <td>0.0</td>\n",
       "      <td>7615.0</td>\n",
       "      <td>66.57</td>\n",
       "      <td>1404.0</td>\n",
       "    </tr>\n",
       "    <tr>\n",
       "      <th>SEVERITYCODE.1</th>\n",
       "      <td>0.0</td>\n",
       "      <td>194673.0</td>\n",
       "      <td>0.0</td>\n",
       "      <td>2.0</td>\n",
       "      <td>0.00</td>\n",
       "      <td>0.0</td>\n",
       "    </tr>\n",
       "    <tr>\n",
       "      <th>PERSONCOUNT</th>\n",
       "      <td>0.0</td>\n",
       "      <td>189129.0</td>\n",
       "      <td>5544.0</td>\n",
       "      <td>47.0</td>\n",
       "      <td>0.00</td>\n",
       "      <td>17075.0</td>\n",
       "    </tr>\n",
       "    <tr>\n",
       "      <th>PEDCOUNT</th>\n",
       "      <td>0.0</td>\n",
       "      <td>6939.0</td>\n",
       "      <td>187734.0</td>\n",
       "      <td>7.0</td>\n",
       "      <td>0.00</td>\n",
       "      <td>6939.0</td>\n",
       "    </tr>\n",
       "    <tr>\n",
       "      <th>PEDCYLCOUNT</th>\n",
       "      <td>0.0</td>\n",
       "      <td>5484.0</td>\n",
       "      <td>189189.0</td>\n",
       "      <td>3.0</td>\n",
       "      <td>0.00</td>\n",
       "      <td>5484.0</td>\n",
       "    </tr>\n",
       "    <tr>\n",
       "      <th>VEHCOUNT</th>\n",
       "      <td>0.0</td>\n",
       "      <td>189588.0</td>\n",
       "      <td>5085.0</td>\n",
       "      <td>13.0</td>\n",
       "      <td>0.00</td>\n",
       "      <td>47023.0</td>\n",
       "    </tr>\n",
       "    <tr>\n",
       "      <th>SDOT_COLCODE</th>\n",
       "      <td>0.0</td>\n",
       "      <td>184886.0</td>\n",
       "      <td>9787.0</td>\n",
       "      <td>39.0</td>\n",
       "      <td>0.00</td>\n",
       "      <td>33237.0</td>\n",
       "    </tr>\n",
       "    <tr>\n",
       "      <th>SDOTCOLNUM</th>\n",
       "      <td>0.0</td>\n",
       "      <td>114936.0</td>\n",
       "      <td>0.0</td>\n",
       "      <td>114933.0</td>\n",
       "      <td>40.96</td>\n",
       "      <td>0.0</td>\n",
       "    </tr>\n",
       "    <tr>\n",
       "      <th>SEGLANEKEY</th>\n",
       "      <td>0.0</td>\n",
       "      <td>2766.0</td>\n",
       "      <td>191907.0</td>\n",
       "      <td>1955.0</td>\n",
       "      <td>0.00</td>\n",
       "      <td>2766.0</td>\n",
       "    </tr>\n",
       "    <tr>\n",
       "      <th>CROSSWALKKEY</th>\n",
       "      <td>0.0</td>\n",
       "      <td>3811.0</td>\n",
       "      <td>190862.0</td>\n",
       "      <td>2198.0</td>\n",
       "      <td>0.00</td>\n",
       "      <td>3811.0</td>\n",
       "    </tr>\n",
       "  </tbody>\n",
       "</table>\n",
       "</div>"
      ],
      "text/plain": [
       "                Negative Value Count  ...  Count of Outliers\n",
       "X                           189339.0  ...             1560.0\n",
       "Y                                0.0  ...                0.0\n",
       "OBJECTID                         0.0  ...                0.0\n",
       "INCKEY                           0.0  ...                0.0\n",
       "COLDETKEY                        0.0  ...                0.0\n",
       "INTKEY                           0.0  ...             1404.0\n",
       "SEVERITYCODE.1                   0.0  ...                0.0\n",
       "PERSONCOUNT                      0.0  ...            17075.0\n",
       "PEDCOUNT                         0.0  ...             6939.0\n",
       "PEDCYLCOUNT                      0.0  ...             5484.0\n",
       "VEHCOUNT                         0.0  ...            47023.0\n",
       "SDOT_COLCODE                     0.0  ...            33237.0\n",
       "SDOTCOLNUM                       0.0  ...                0.0\n",
       "SEGLANEKEY                       0.0  ...             2766.0\n",
       "CROSSWALKKEY                     0.0  ...             3811.0\n",
       "\n",
       "[15 rows x 6 columns]"
      ]
     },
     "execution_count": 20,
     "metadata": {
      "tags": []
     },
     "output_type": "execute_result"
    }
   ],
   "source": [
    "num_univariate(df,['SEVERITYCODE'])"
   ]
  },
  {
   "cell_type": "code",
   "execution_count": 21,
   "metadata": {
    "colab": {
     "base_uri": "https://localhost:8080/",
     "height": 731
    },
    "colab_type": "code",
    "executionInfo": {
     "elapsed": 1390,
     "status": "ok",
     "timestamp": 1598344486818,
     "user": {
      "displayName": "Rahul Sharma",
      "photoUrl": "",
      "userId": "12186756602691074388"
     },
     "user_tz": -330
    },
    "id": "qQ6L3rnmG0qM",
    "outputId": "0b9e5fa3-edb2-4482-d3ba-eb0ece20ebf1"
   },
   "outputs": [
    {
     "data": {
      "text/html": [
       "<div>\n",
       "<style scoped>\n",
       "    .dataframe tbody tr th:only-of-type {\n",
       "        vertical-align: middle;\n",
       "    }\n",
       "\n",
       "    .dataframe tbody tr th {\n",
       "        vertical-align: top;\n",
       "    }\n",
       "\n",
       "    .dataframe thead th {\n",
       "        text-align: right;\n",
       "    }\n",
       "</style>\n",
       "<table border=\"1\" class=\"dataframe\">\n",
       "  <thead>\n",
       "    <tr style=\"text-align: right;\">\n",
       "      <th></th>\n",
       "      <th>Unique Categories</th>\n",
       "      <th>Missing Percent</th>\n",
       "    </tr>\n",
       "  </thead>\n",
       "  <tbody>\n",
       "    <tr>\n",
       "      <th>REPORTNO</th>\n",
       "      <td>194670.0</td>\n",
       "      <td>0.00</td>\n",
       "    </tr>\n",
       "    <tr>\n",
       "      <th>STATUS</th>\n",
       "      <td>2.0</td>\n",
       "      <td>0.00</td>\n",
       "    </tr>\n",
       "    <tr>\n",
       "      <th>ADDRTYPE</th>\n",
       "      <td>4.0</td>\n",
       "      <td>0.99</td>\n",
       "    </tr>\n",
       "    <tr>\n",
       "      <th>LOCATION</th>\n",
       "      <td>24103.0</td>\n",
       "      <td>1.38</td>\n",
       "    </tr>\n",
       "    <tr>\n",
       "      <th>EXCEPTRSNCODE</th>\n",
       "      <td>3.0</td>\n",
       "      <td>56.43</td>\n",
       "    </tr>\n",
       "    <tr>\n",
       "      <th>EXCEPTRSNDESC</th>\n",
       "      <td>2.0</td>\n",
       "      <td>97.10</td>\n",
       "    </tr>\n",
       "    <tr>\n",
       "      <th>SEVERITYDESC</th>\n",
       "      <td>2.0</td>\n",
       "      <td>0.00</td>\n",
       "    </tr>\n",
       "    <tr>\n",
       "      <th>COLLISIONTYPE</th>\n",
       "      <td>11.0</td>\n",
       "      <td>2.52</td>\n",
       "    </tr>\n",
       "    <tr>\n",
       "      <th>INCDATE</th>\n",
       "      <td>5985.0</td>\n",
       "      <td>0.00</td>\n",
       "    </tr>\n",
       "    <tr>\n",
       "      <th>INCDTTM</th>\n",
       "      <td>162058.0</td>\n",
       "      <td>0.00</td>\n",
       "    </tr>\n",
       "    <tr>\n",
       "      <th>JUNCTIONTYPE</th>\n",
       "      <td>8.0</td>\n",
       "      <td>3.25</td>\n",
       "    </tr>\n",
       "    <tr>\n",
       "      <th>SDOT_COLDESC</th>\n",
       "      <td>39.0</td>\n",
       "      <td>0.00</td>\n",
       "    </tr>\n",
       "    <tr>\n",
       "      <th>INATTENTIONIND</th>\n",
       "      <td>2.0</td>\n",
       "      <td>84.69</td>\n",
       "    </tr>\n",
       "    <tr>\n",
       "      <th>UNDERINFL</th>\n",
       "      <td>5.0</td>\n",
       "      <td>2.51</td>\n",
       "    </tr>\n",
       "    <tr>\n",
       "      <th>WEATHER</th>\n",
       "      <td>12.0</td>\n",
       "      <td>2.61</td>\n",
       "    </tr>\n",
       "    <tr>\n",
       "      <th>ROADCOND</th>\n",
       "      <td>10.0</td>\n",
       "      <td>2.57</td>\n",
       "    </tr>\n",
       "    <tr>\n",
       "      <th>LIGHTCOND</th>\n",
       "      <td>10.0</td>\n",
       "      <td>2.66</td>\n",
       "    </tr>\n",
       "    <tr>\n",
       "      <th>PEDROWNOTGRNT</th>\n",
       "      <td>2.0</td>\n",
       "      <td>97.60</td>\n",
       "    </tr>\n",
       "    <tr>\n",
       "      <th>SPEEDING</th>\n",
       "      <td>2.0</td>\n",
       "      <td>95.21</td>\n",
       "    </tr>\n",
       "    <tr>\n",
       "      <th>ST_COLCODE</th>\n",
       "      <td>64.0</td>\n",
       "      <td>0.01</td>\n",
       "    </tr>\n",
       "    <tr>\n",
       "      <th>ST_COLDESC</th>\n",
       "      <td>63.0</td>\n",
       "      <td>2.52</td>\n",
       "    </tr>\n",
       "    <tr>\n",
       "      <th>HITPARKEDCAR</th>\n",
       "      <td>2.0</td>\n",
       "      <td>0.00</td>\n",
       "    </tr>\n",
       "  </tbody>\n",
       "</table>\n",
       "</div>"
      ],
      "text/plain": [
       "                Unique Categories  Missing Percent\n",
       "REPORTNO                 194670.0             0.00\n",
       "STATUS                        2.0             0.00\n",
       "ADDRTYPE                      4.0             0.99\n",
       "LOCATION                  24103.0             1.38\n",
       "EXCEPTRSNCODE                 3.0            56.43\n",
       "EXCEPTRSNDESC                 2.0            97.10\n",
       "SEVERITYDESC                  2.0             0.00\n",
       "COLLISIONTYPE                11.0             2.52\n",
       "INCDATE                    5985.0             0.00\n",
       "INCDTTM                  162058.0             0.00\n",
       "JUNCTIONTYPE                  8.0             3.25\n",
       "SDOT_COLDESC                 39.0             0.00\n",
       "INATTENTIONIND                2.0            84.69\n",
       "UNDERINFL                     5.0             2.51\n",
       "WEATHER                      12.0             2.61\n",
       "ROADCOND                     10.0             2.57\n",
       "LIGHTCOND                    10.0             2.66\n",
       "PEDROWNOTGRNT                 2.0            97.60\n",
       "SPEEDING                      2.0            95.21\n",
       "ST_COLCODE                   64.0             0.01\n",
       "ST_COLDESC                   63.0             2.52\n",
       "HITPARKEDCAR                  2.0             0.00"
      ]
     },
     "execution_count": 21,
     "metadata": {
      "tags": []
     },
     "output_type": "execute_result"
    }
   ],
   "source": [
    "cat_univariate(df,['SEVERITYCODE'])"
   ]
  },
  {
   "cell_type": "code",
   "execution_count": 22,
   "metadata": {
    "colab": {
     "base_uri": "https://localhost:8080/",
     "height": 534
    },
    "colab_type": "code",
    "executionInfo": {
     "elapsed": 1748,
     "status": "ok",
     "timestamp": 1598344490695,
     "user": {
      "displayName": "Rahul Sharma",
      "photoUrl": "",
      "userId": "12186756602691074388"
     },
     "user_tz": -330
    },
    "id": "oemUy35hG0qO",
    "outputId": "007d231d-3b1b-44f1-d9fb-846bbef90782",
    "scrolled": true
   },
   "outputs": [
    {
     "data": {
      "text/html": [
       "<div>\n",
       "<style scoped>\n",
       "    .dataframe tbody tr th:only-of-type {\n",
       "        vertical-align: middle;\n",
       "    }\n",
       "\n",
       "    .dataframe tbody tr th {\n",
       "        vertical-align: top;\n",
       "    }\n",
       "\n",
       "    .dataframe thead th {\n",
       "        text-align: right;\n",
       "    }\n",
       "</style>\n",
       "<table border=\"1\" class=\"dataframe\">\n",
       "  <thead>\n",
       "    <tr style=\"text-align: right;\">\n",
       "      <th></th>\n",
       "      <th>count</th>\n",
       "      <th>mean</th>\n",
       "      <th>std</th>\n",
       "      <th>min</th>\n",
       "      <th>25%</th>\n",
       "      <th>50%</th>\n",
       "      <th>75%</th>\n",
       "      <th>max</th>\n",
       "      <th>10%</th>\n",
       "      <th>90%</th>\n",
       "      <th>99%</th>\n",
       "      <th>outlier_count</th>\n",
       "    </tr>\n",
       "  </thead>\n",
       "  <tbody>\n",
       "    <tr>\n",
       "      <th>X</th>\n",
       "      <td>189339.0</td>\n",
       "      <td>-122.33</td>\n",
       "      <td>0.03</td>\n",
       "      <td>-122.42</td>\n",
       "      <td>-122.35</td>\n",
       "      <td>-122.33</td>\n",
       "      <td>-122.31</td>\n",
       "      <td>-122.24</td>\n",
       "      <td>-122.37</td>\n",
       "      <td>-122.29</td>\n",
       "      <td>-122.27</td>\n",
       "      <td>1560.0</td>\n",
       "    </tr>\n",
       "    <tr>\n",
       "      <th>Y</th>\n",
       "      <td>189339.0</td>\n",
       "      <td>47.62</td>\n",
       "      <td>0.06</td>\n",
       "      <td>47.50</td>\n",
       "      <td>47.58</td>\n",
       "      <td>47.62</td>\n",
       "      <td>47.66</td>\n",
       "      <td>47.73</td>\n",
       "      <td>47.54</td>\n",
       "      <td>47.70</td>\n",
       "      <td>47.73</td>\n",
       "      <td>0.0</td>\n",
       "    </tr>\n",
       "    <tr>\n",
       "      <th>OBJECTID</th>\n",
       "      <td>194673.0</td>\n",
       "      <td>108479.36</td>\n",
       "      <td>62649.72</td>\n",
       "      <td>1.00</td>\n",
       "      <td>54267.00</td>\n",
       "      <td>106912.00</td>\n",
       "      <td>162272.00</td>\n",
       "      <td>219547.00</td>\n",
       "      <td>23695.40</td>\n",
       "      <td>196557.80</td>\n",
       "      <td>217258.28</td>\n",
       "      <td>0.0</td>\n",
       "    </tr>\n",
       "    <tr>\n",
       "      <th>INCKEY</th>\n",
       "      <td>194673.0</td>\n",
       "      <td>141091.46</td>\n",
       "      <td>86634.40</td>\n",
       "      <td>1001.00</td>\n",
       "      <td>70383.00</td>\n",
       "      <td>123363.00</td>\n",
       "      <td>203319.00</td>\n",
       "      <td>331454.00</td>\n",
       "      <td>39749.20</td>\n",
       "      <td>282298.80</td>\n",
       "      <td>328483.28</td>\n",
       "      <td>0.0</td>\n",
       "    </tr>\n",
       "    <tr>\n",
       "      <th>COLDETKEY</th>\n",
       "      <td>194673.0</td>\n",
       "      <td>141298.81</td>\n",
       "      <td>86986.54</td>\n",
       "      <td>1001.00</td>\n",
       "      <td>70383.00</td>\n",
       "      <td>123363.00</td>\n",
       "      <td>203459.00</td>\n",
       "      <td>332954.00</td>\n",
       "      <td>39749.20</td>\n",
       "      <td>283158.80</td>\n",
       "      <td>329983.28</td>\n",
       "      <td>0.0</td>\n",
       "    </tr>\n",
       "    <tr>\n",
       "      <th>INTKEY</th>\n",
       "      <td>65070.0</td>\n",
       "      <td>37558.45</td>\n",
       "      <td>51745.99</td>\n",
       "      <td>23807.00</td>\n",
       "      <td>28667.00</td>\n",
       "      <td>29973.00</td>\n",
       "      <td>33973.00</td>\n",
       "      <td>757580.00</td>\n",
       "      <td>25483.80</td>\n",
       "      <td>36525.00</td>\n",
       "      <td>351236.61</td>\n",
       "      <td>1404.0</td>\n",
       "    </tr>\n",
       "    <tr>\n",
       "      <th>SEVERITYCODE.1</th>\n",
       "      <td>194673.0</td>\n",
       "      <td>1.30</td>\n",
       "      <td>0.46</td>\n",
       "      <td>1.00</td>\n",
       "      <td>1.00</td>\n",
       "      <td>1.00</td>\n",
       "      <td>2.00</td>\n",
       "      <td>2.00</td>\n",
       "      <td>1.00</td>\n",
       "      <td>2.00</td>\n",
       "      <td>2.00</td>\n",
       "      <td>0.0</td>\n",
       "    </tr>\n",
       "    <tr>\n",
       "      <th>PERSONCOUNT</th>\n",
       "      <td>194673.0</td>\n",
       "      <td>2.44</td>\n",
       "      <td>1.35</td>\n",
       "      <td>0.00</td>\n",
       "      <td>2.00</td>\n",
       "      <td>2.00</td>\n",
       "      <td>3.00</td>\n",
       "      <td>81.00</td>\n",
       "      <td>2.00</td>\n",
       "      <td>4.00</td>\n",
       "      <td>7.00</td>\n",
       "      <td>17075.0</td>\n",
       "    </tr>\n",
       "    <tr>\n",
       "      <th>PEDCOUNT</th>\n",
       "      <td>194673.0</td>\n",
       "      <td>0.04</td>\n",
       "      <td>0.20</td>\n",
       "      <td>0.00</td>\n",
       "      <td>0.00</td>\n",
       "      <td>0.00</td>\n",
       "      <td>0.00</td>\n",
       "      <td>6.00</td>\n",
       "      <td>0.00</td>\n",
       "      <td>0.00</td>\n",
       "      <td>1.00</td>\n",
       "      <td>6939.0</td>\n",
       "    </tr>\n",
       "    <tr>\n",
       "      <th>PEDCYLCOUNT</th>\n",
       "      <td>194673.0</td>\n",
       "      <td>0.03</td>\n",
       "      <td>0.17</td>\n",
       "      <td>0.00</td>\n",
       "      <td>0.00</td>\n",
       "      <td>0.00</td>\n",
       "      <td>0.00</td>\n",
       "      <td>2.00</td>\n",
       "      <td>0.00</td>\n",
       "      <td>0.00</td>\n",
       "      <td>1.00</td>\n",
       "      <td>5484.0</td>\n",
       "    </tr>\n",
       "    <tr>\n",
       "      <th>VEHCOUNT</th>\n",
       "      <td>194673.0</td>\n",
       "      <td>1.92</td>\n",
       "      <td>0.63</td>\n",
       "      <td>0.00</td>\n",
       "      <td>2.00</td>\n",
       "      <td>2.00</td>\n",
       "      <td>2.00</td>\n",
       "      <td>12.00</td>\n",
       "      <td>1.00</td>\n",
       "      <td>2.00</td>\n",
       "      <td>4.00</td>\n",
       "      <td>47023.0</td>\n",
       "    </tr>\n",
       "    <tr>\n",
       "      <th>SDOT_COLCODE</th>\n",
       "      <td>194673.0</td>\n",
       "      <td>13.87</td>\n",
       "      <td>6.87</td>\n",
       "      <td>0.00</td>\n",
       "      <td>11.00</td>\n",
       "      <td>13.00</td>\n",
       "      <td>14.00</td>\n",
       "      <td>69.00</td>\n",
       "      <td>11.00</td>\n",
       "      <td>24.00</td>\n",
       "      <td>48.00</td>\n",
       "      <td>33237.0</td>\n",
       "    </tr>\n",
       "    <tr>\n",
       "      <th>SDOTCOLNUM</th>\n",
       "      <td>114936.0</td>\n",
       "      <td>7972521.34</td>\n",
       "      <td>2553533.45</td>\n",
       "      <td>1007024.00</td>\n",
       "      <td>6040014.75</td>\n",
       "      <td>8023022.50</td>\n",
       "      <td>10155010.25</td>\n",
       "      <td>13072024.00</td>\n",
       "      <td>4340012.50</td>\n",
       "      <td>12006524.00</td>\n",
       "      <td>13028005.65</td>\n",
       "      <td>0.0</td>\n",
       "    </tr>\n",
       "    <tr>\n",
       "      <th>SEGLANEKEY</th>\n",
       "      <td>194673.0</td>\n",
       "      <td>269.40</td>\n",
       "      <td>3315.78</td>\n",
       "      <td>0.00</td>\n",
       "      <td>0.00</td>\n",
       "      <td>0.00</td>\n",
       "      <td>0.00</td>\n",
       "      <td>525241.00</td>\n",
       "      <td>0.00</td>\n",
       "      <td>0.00</td>\n",
       "      <td>10096.00</td>\n",
       "      <td>2766.0</td>\n",
       "    </tr>\n",
       "    <tr>\n",
       "      <th>CROSSWALKKEY</th>\n",
       "      <td>194673.0</td>\n",
       "      <td>9782.45</td>\n",
       "      <td>72269.26</td>\n",
       "      <td>0.00</td>\n",
       "      <td>0.00</td>\n",
       "      <td>0.00</td>\n",
       "      <td>0.00</td>\n",
       "      <td>5239700.00</td>\n",
       "      <td>0.00</td>\n",
       "      <td>0.00</td>\n",
       "      <td>523137.00</td>\n",
       "      <td>3811.0</td>\n",
       "    </tr>\n",
       "  </tbody>\n",
       "</table>\n",
       "</div>"
      ],
      "text/plain": [
       "                   count        mean  ...          99%  outlier_count\n",
       "X               189339.0     -122.33  ...      -122.27         1560.0\n",
       "Y               189339.0       47.62  ...        47.73            0.0\n",
       "OBJECTID        194673.0   108479.36  ...    217258.28            0.0\n",
       "INCKEY          194673.0   141091.46  ...    328483.28            0.0\n",
       "COLDETKEY       194673.0   141298.81  ...    329983.28            0.0\n",
       "INTKEY           65070.0    37558.45  ...    351236.61         1404.0\n",
       "SEVERITYCODE.1  194673.0        1.30  ...         2.00            0.0\n",
       "PERSONCOUNT     194673.0        2.44  ...         7.00        17075.0\n",
       "PEDCOUNT        194673.0        0.04  ...         1.00         6939.0\n",
       "PEDCYLCOUNT     194673.0        0.03  ...         1.00         5484.0\n",
       "VEHCOUNT        194673.0        1.92  ...         4.00        47023.0\n",
       "SDOT_COLCODE    194673.0       13.87  ...        48.00        33237.0\n",
       "SDOTCOLNUM      114936.0  7972521.34  ...  13028005.65            0.0\n",
       "SEGLANEKEY      194673.0      269.40  ...     10096.00         2766.0\n",
       "CROSSWALKKEY    194673.0     9782.45  ...    523137.00         3811.0\n",
       "\n",
       "[15 rows x 12 columns]"
      ]
     },
     "execution_count": 22,
     "metadata": {
      "tags": []
     },
     "output_type": "execute_result"
    }
   ],
   "source": [
    "stats_data(df,['SEVERITYCODE'])"
   ]
  },
  {
   "cell_type": "code",
   "execution_count": 23,
   "metadata": {
    "colab": {
     "base_uri": "https://localhost:8080/",
     "height": 1000
    },
    "colab_type": "code",
    "executionInfo": {
     "elapsed": 1442,
     "status": "ok",
     "timestamp": 1598344498620,
     "user": {
      "displayName": "Rahul Sharma",
      "photoUrl": "",
      "userId": "12186756602691074388"
     },
     "user_tz": -330
    },
    "id": "a28oWYggG0qQ",
    "outputId": "82e7f75e-0e1d-46b8-ae51-bd745bd013e4",
    "scrolled": false
   },
   "outputs": [
    {
     "data": {
      "text/html": [
       "<div>\n",
       "<style scoped>\n",
       "    .dataframe tbody tr th:only-of-type {\n",
       "        vertical-align: middle;\n",
       "    }\n",
       "\n",
       "    .dataframe tbody tr th {\n",
       "        vertical-align: top;\n",
       "    }\n",
       "\n",
       "    .dataframe thead th {\n",
       "        text-align: right;\n",
       "    }\n",
       "</style>\n",
       "<table border=\"1\" class=\"dataframe\">\n",
       "  <thead>\n",
       "    <tr style=\"text-align: right;\">\n",
       "      <th></th>\n",
       "      <th></th>\n",
       "      <th>count</th>\n",
       "      <th>mean</th>\n",
       "      <th>std</th>\n",
       "      <th>min</th>\n",
       "      <th>25%</th>\n",
       "      <th>50%</th>\n",
       "      <th>75%</th>\n",
       "      <th>max</th>\n",
       "    </tr>\n",
       "    <tr>\n",
       "      <th>Variable</th>\n",
       "      <th>SEVERITYCODE</th>\n",
       "      <th></th>\n",
       "      <th></th>\n",
       "      <th></th>\n",
       "      <th></th>\n",
       "      <th></th>\n",
       "      <th></th>\n",
       "      <th></th>\n",
       "      <th></th>\n",
       "    </tr>\n",
       "  </thead>\n",
       "  <tbody>\n",
       "    <tr>\n",
       "      <th rowspan=\"2\" valign=\"top\">CROSSWALKKEY</th>\n",
       "      <th>1</th>\n",
       "      <td>136485.0</td>\n",
       "      <td>1520.24</td>\n",
       "      <td>28265.08</td>\n",
       "      <td>0.00</td>\n",
       "      <td>0.00</td>\n",
       "      <td>0.00</td>\n",
       "      <td>0.00</td>\n",
       "      <td>638921.00</td>\n",
       "    </tr>\n",
       "    <tr>\n",
       "      <th>2</th>\n",
       "      <td>58188.0</td>\n",
       "      <td>29162.20</td>\n",
       "      <td>122735.68</td>\n",
       "      <td>0.00</td>\n",
       "      <td>0.00</td>\n",
       "      <td>0.00</td>\n",
       "      <td>0.00</td>\n",
       "      <td>5239700.00</td>\n",
       "    </tr>\n",
       "    <tr>\n",
       "      <th rowspan=\"2\" valign=\"top\">SEGLANEKEY</th>\n",
       "      <th>1</th>\n",
       "      <td>136485.0</td>\n",
       "      <td>43.64</td>\n",
       "      <td>1063.68</td>\n",
       "      <td>0.00</td>\n",
       "      <td>0.00</td>\n",
       "      <td>0.00</td>\n",
       "      <td>0.00</td>\n",
       "      <td>45540.00</td>\n",
       "    </tr>\n",
       "    <tr>\n",
       "      <th>2</th>\n",
       "      <td>58188.0</td>\n",
       "      <td>798.93</td>\n",
       "      <td>5807.69</td>\n",
       "      <td>0.00</td>\n",
       "      <td>0.00</td>\n",
       "      <td>0.00</td>\n",
       "      <td>0.00</td>\n",
       "      <td>525241.00</td>\n",
       "    </tr>\n",
       "    <tr>\n",
       "      <th rowspan=\"2\" valign=\"top\">SDOTCOLNUM</th>\n",
       "      <th>1</th>\n",
       "      <td>81429.0</td>\n",
       "      <td>7965599.04</td>\n",
       "      <td>2535406.29</td>\n",
       "      <td>1007024.00</td>\n",
       "      <td>6048008.00</td>\n",
       "      <td>8021003.00</td>\n",
       "      <td>10143012.00</td>\n",
       "      <td>13072024.00</td>\n",
       "    </tr>\n",
       "    <tr>\n",
       "      <th>2</th>\n",
       "      <td>33507.0</td>\n",
       "      <td>7989343.96</td>\n",
       "      <td>2597020.24</td>\n",
       "      <td>4001002.00</td>\n",
       "      <td>6020046.50</td>\n",
       "      <td>8031036.00</td>\n",
       "      <td>10180019.00</td>\n",
       "      <td>13072022.00</td>\n",
       "    </tr>\n",
       "    <tr>\n",
       "      <th rowspan=\"2\" valign=\"top\">SDOT_COLCODE</th>\n",
       "      <th>1</th>\n",
       "      <td>136485.0</td>\n",
       "      <td>13.02</td>\n",
       "      <td>5.88</td>\n",
       "      <td>0.00</td>\n",
       "      <td>11.00</td>\n",
       "      <td>11.00</td>\n",
       "      <td>14.00</td>\n",
       "      <td>69.00</td>\n",
       "    </tr>\n",
       "    <tr>\n",
       "      <th>2</th>\n",
       "      <td>58188.0</td>\n",
       "      <td>15.85</td>\n",
       "      <td>8.44</td>\n",
       "      <td>0.00</td>\n",
       "      <td>11.00</td>\n",
       "      <td>14.00</td>\n",
       "      <td>16.00</td>\n",
       "      <td>69.00</td>\n",
       "    </tr>\n",
       "    <tr>\n",
       "      <th rowspan=\"2\" valign=\"top\">VEHCOUNT</th>\n",
       "      <th>1</th>\n",
       "      <td>136485.0</td>\n",
       "      <td>1.94</td>\n",
       "      <td>0.57</td>\n",
       "      <td>0.00</td>\n",
       "      <td>2.00</td>\n",
       "      <td>2.00</td>\n",
       "      <td>2.00</td>\n",
       "      <td>12.00</td>\n",
       "    </tr>\n",
       "    <tr>\n",
       "      <th>2</th>\n",
       "      <td>58188.0</td>\n",
       "      <td>1.87</td>\n",
       "      <td>0.75</td>\n",
       "      <td>0.00</td>\n",
       "      <td>1.00</td>\n",
       "      <td>2.00</td>\n",
       "      <td>2.00</td>\n",
       "      <td>11.00</td>\n",
       "    </tr>\n",
       "    <tr>\n",
       "      <th rowspan=\"2\" valign=\"top\">PEDCYLCOUNT</th>\n",
       "      <th>1</th>\n",
       "      <td>136485.0</td>\n",
       "      <td>0.00</td>\n",
       "      <td>0.07</td>\n",
       "      <td>0.00</td>\n",
       "      <td>0.00</td>\n",
       "      <td>0.00</td>\n",
       "      <td>0.00</td>\n",
       "      <td>1.00</td>\n",
       "    </tr>\n",
       "    <tr>\n",
       "      <th>2</th>\n",
       "      <td>58188.0</td>\n",
       "      <td>0.08</td>\n",
       "      <td>0.28</td>\n",
       "      <td>0.00</td>\n",
       "      <td>0.00</td>\n",
       "      <td>0.00</td>\n",
       "      <td>0.00</td>\n",
       "      <td>2.00</td>\n",
       "    </tr>\n",
       "    <tr>\n",
       "      <th rowspan=\"2\" valign=\"top\">PEDCOUNT</th>\n",
       "      <th>1</th>\n",
       "      <td>136485.0</td>\n",
       "      <td>0.01</td>\n",
       "      <td>0.07</td>\n",
       "      <td>0.00</td>\n",
       "      <td>0.00</td>\n",
       "      <td>0.00</td>\n",
       "      <td>0.00</td>\n",
       "      <td>3.00</td>\n",
       "    </tr>\n",
       "    <tr>\n",
       "      <th>2</th>\n",
       "      <td>58188.0</td>\n",
       "      <td>0.11</td>\n",
       "      <td>0.33</td>\n",
       "      <td>0.00</td>\n",
       "      <td>0.00</td>\n",
       "      <td>0.00</td>\n",
       "      <td>0.00</td>\n",
       "      <td>6.00</td>\n",
       "    </tr>\n",
       "    <tr>\n",
       "      <th rowspan=\"2\" valign=\"top\">PERSONCOUNT</th>\n",
       "      <th>1</th>\n",
       "      <td>136485.0</td>\n",
       "      <td>2.33</td>\n",
       "      <td>1.23</td>\n",
       "      <td>0.00</td>\n",
       "      <td>2.00</td>\n",
       "      <td>2.00</td>\n",
       "      <td>3.00</td>\n",
       "      <td>57.00</td>\n",
       "    </tr>\n",
       "    <tr>\n",
       "      <th>2</th>\n",
       "      <td>58188.0</td>\n",
       "      <td>2.71</td>\n",
       "      <td>1.54</td>\n",
       "      <td>0.00</td>\n",
       "      <td>2.00</td>\n",
       "      <td>2.00</td>\n",
       "      <td>3.00</td>\n",
       "      <td>81.00</td>\n",
       "    </tr>\n",
       "    <tr>\n",
       "      <th rowspan=\"2\" valign=\"top\">SEVERITYCODE.1</th>\n",
       "      <th>1</th>\n",
       "      <td>136485.0</td>\n",
       "      <td>1.00</td>\n",
       "      <td>0.00</td>\n",
       "      <td>1.00</td>\n",
       "      <td>1.00</td>\n",
       "      <td>1.00</td>\n",
       "      <td>1.00</td>\n",
       "      <td>1.00</td>\n",
       "    </tr>\n",
       "    <tr>\n",
       "      <th>2</th>\n",
       "      <td>58188.0</td>\n",
       "      <td>2.00</td>\n",
       "      <td>0.00</td>\n",
       "      <td>2.00</td>\n",
       "      <td>2.00</td>\n",
       "      <td>2.00</td>\n",
       "      <td>2.00</td>\n",
       "      <td>2.00</td>\n",
       "    </tr>\n",
       "    <tr>\n",
       "      <th rowspan=\"2\" valign=\"top\">INTKEY</th>\n",
       "      <th>1</th>\n",
       "      <td>37251.0</td>\n",
       "      <td>37265.44</td>\n",
       "      <td>50426.36</td>\n",
       "      <td>23807.00</td>\n",
       "      <td>28700.00</td>\n",
       "      <td>29973.00</td>\n",
       "      <td>33645.00</td>\n",
       "      <td>757580.00</td>\n",
       "    </tr>\n",
       "    <tr>\n",
       "      <th>2</th>\n",
       "      <td>27819.0</td>\n",
       "      <td>37950.81</td>\n",
       "      <td>53460.45</td>\n",
       "      <td>23807.00</td>\n",
       "      <td>28655.00</td>\n",
       "      <td>30011.00</td>\n",
       "      <td>34147.00</td>\n",
       "      <td>725404.00</td>\n",
       "    </tr>\n",
       "    <tr>\n",
       "      <th rowspan=\"2\" valign=\"top\">COLDETKEY</th>\n",
       "      <th>1</th>\n",
       "      <td>136485.0</td>\n",
       "      <td>140044.81</td>\n",
       "      <td>86395.75</td>\n",
       "      <td>1001.00</td>\n",
       "      <td>69973.00</td>\n",
       "      <td>121854.00</td>\n",
       "      <td>200814.00</td>\n",
       "      <td>332954.00</td>\n",
       "    </tr>\n",
       "    <tr>\n",
       "      <th>2</th>\n",
       "      <td>58188.0</td>\n",
       "      <td>144240.17</td>\n",
       "      <td>88287.69</td>\n",
       "      <td>1002.00</td>\n",
       "      <td>71496.00</td>\n",
       "      <td>127262.50</td>\n",
       "      <td>208855.25</td>\n",
       "      <td>332953.00</td>\n",
       "    </tr>\n",
       "    <tr>\n",
       "      <th rowspan=\"2\" valign=\"top\">INCKEY</th>\n",
       "      <th>1</th>\n",
       "      <td>136485.0</td>\n",
       "      <td>139843.29</td>\n",
       "      <td>86048.99</td>\n",
       "      <td>1001.00</td>\n",
       "      <td>69973.00</td>\n",
       "      <td>121854.00</td>\n",
       "      <td>200674.00</td>\n",
       "      <td>331454.00</td>\n",
       "    </tr>\n",
       "    <tr>\n",
       "      <th>2</th>\n",
       "      <td>58188.0</td>\n",
       "      <td>144019.15</td>\n",
       "      <td>87923.52</td>\n",
       "      <td>1002.00</td>\n",
       "      <td>71496.00</td>\n",
       "      <td>127262.50</td>\n",
       "      <td>208655.25</td>\n",
       "      <td>331453.00</td>\n",
       "    </tr>\n",
       "    <tr>\n",
       "      <th rowspan=\"2\" valign=\"top\">Y</th>\n",
       "      <th>1</th>\n",
       "      <td>132221.0</td>\n",
       "      <td>47.62</td>\n",
       "      <td>0.06</td>\n",
       "      <td>47.50</td>\n",
       "      <td>47.58</td>\n",
       "      <td>47.62</td>\n",
       "      <td>47.66</td>\n",
       "      <td>47.73</td>\n",
       "    </tr>\n",
       "    <tr>\n",
       "      <th>2</th>\n",
       "      <td>57118.0</td>\n",
       "      <td>47.62</td>\n",
       "      <td>0.06</td>\n",
       "      <td>47.50</td>\n",
       "      <td>47.57</td>\n",
       "      <td>47.62</td>\n",
       "      <td>47.67</td>\n",
       "      <td>47.73</td>\n",
       "    </tr>\n",
       "    <tr>\n",
       "      <th rowspan=\"2\" valign=\"top\">X</th>\n",
       "      <th>1</th>\n",
       "      <td>132221.0</td>\n",
       "      <td>-122.33</td>\n",
       "      <td>0.03</td>\n",
       "      <td>-122.42</td>\n",
       "      <td>-122.35</td>\n",
       "      <td>-122.33</td>\n",
       "      <td>-122.31</td>\n",
       "      <td>-122.24</td>\n",
       "    </tr>\n",
       "    <tr>\n",
       "      <th>2</th>\n",
       "      <td>57118.0</td>\n",
       "      <td>-122.33</td>\n",
       "      <td>0.03</td>\n",
       "      <td>-122.42</td>\n",
       "      <td>-122.35</td>\n",
       "      <td>-122.33</td>\n",
       "      <td>-122.31</td>\n",
       "      <td>-122.24</td>\n",
       "    </tr>\n",
       "    <tr>\n",
       "      <th rowspan=\"2\" valign=\"top\">SEVERITYCODE</th>\n",
       "      <th>1</th>\n",
       "      <td>136485.0</td>\n",
       "      <td>1.00</td>\n",
       "      <td>0.00</td>\n",
       "      <td>1.00</td>\n",
       "      <td>1.00</td>\n",
       "      <td>1.00</td>\n",
       "      <td>1.00</td>\n",
       "      <td>1.00</td>\n",
       "    </tr>\n",
       "    <tr>\n",
       "      <th>2</th>\n",
       "      <td>58188.0</td>\n",
       "      <td>2.00</td>\n",
       "      <td>0.00</td>\n",
       "      <td>2.00</td>\n",
       "      <td>2.00</td>\n",
       "      <td>2.00</td>\n",
       "      <td>2.00</td>\n",
       "      <td>2.00</td>\n",
       "    </tr>\n",
       "  </tbody>\n",
       "</table>\n",
       "</div>"
      ],
      "text/plain": [
       "                                count        mean  ...          75%          max\n",
       "Variable       SEVERITYCODE                        ...                          \n",
       "CROSSWALKKEY   1             136485.0     1520.24  ...         0.00    638921.00\n",
       "               2              58188.0    29162.20  ...         0.00   5239700.00\n",
       "SEGLANEKEY     1             136485.0       43.64  ...         0.00     45540.00\n",
       "               2              58188.0      798.93  ...         0.00    525241.00\n",
       "SDOTCOLNUM     1              81429.0  7965599.04  ...  10143012.00  13072024.00\n",
       "               2              33507.0  7989343.96  ...  10180019.00  13072022.00\n",
       "SDOT_COLCODE   1             136485.0       13.02  ...        14.00        69.00\n",
       "               2              58188.0       15.85  ...        16.00        69.00\n",
       "VEHCOUNT       1             136485.0        1.94  ...         2.00        12.00\n",
       "               2              58188.0        1.87  ...         2.00        11.00\n",
       "PEDCYLCOUNT    1             136485.0        0.00  ...         0.00         1.00\n",
       "               2              58188.0        0.08  ...         0.00         2.00\n",
       "PEDCOUNT       1             136485.0        0.01  ...         0.00         3.00\n",
       "               2              58188.0        0.11  ...         0.00         6.00\n",
       "PERSONCOUNT    1             136485.0        2.33  ...         3.00        57.00\n",
       "               2              58188.0        2.71  ...         3.00        81.00\n",
       "SEVERITYCODE.1 1             136485.0        1.00  ...         1.00         1.00\n",
       "               2              58188.0        2.00  ...         2.00         2.00\n",
       "INTKEY         1              37251.0    37265.44  ...     33645.00    757580.00\n",
       "               2              27819.0    37950.81  ...     34147.00    725404.00\n",
       "COLDETKEY      1             136485.0   140044.81  ...    200814.00    332954.00\n",
       "               2              58188.0   144240.17  ...    208855.25    332953.00\n",
       "INCKEY         1             136485.0   139843.29  ...    200674.00    331454.00\n",
       "               2              58188.0   144019.15  ...    208655.25    331453.00\n",
       "Y              1             132221.0       47.62  ...        47.66        47.73\n",
       "               2              57118.0       47.62  ...        47.67        47.73\n",
       "X              1             132221.0     -122.33  ...      -122.31      -122.24\n",
       "               2              57118.0     -122.33  ...      -122.31      -122.24\n",
       "SEVERITYCODE   1             136485.0        1.00  ...         1.00         1.00\n",
       "               2              58188.0        2.00  ...         2.00         2.00\n",
       "\n",
       "[30 rows x 8 columns]"
      ]
     },
     "execution_count": 23,
     "metadata": {
      "tags": []
     },
     "output_type": "execute_result"
    }
   ],
   "source": [
    "num_check(df,['OBJECTID'],['SEVERITYCODE'])"
   ]
  },
  {
   "cell_type": "code",
   "execution_count": 24,
   "metadata": {
    "colab": {
     "base_uri": "https://localhost:8080/",
     "height": 1000
    },
    "colab_type": "code",
    "executionInfo": {
     "elapsed": 18740,
     "status": "ok",
     "timestamp": 1598344520235,
     "user": {
      "displayName": "Rahul Sharma",
      "photoUrl": "",
      "userId": "12186756602691074388"
     },
     "user_tz": -330
    },
    "id": "i9FpddDkG0qT",
    "outputId": "89c0f566-e7de-4f56-dead-031287451a3f"
   },
   "outputs": [
    {
     "data": {
      "image/png": "[encoded data removed]",
      "text/plain": [
       "<Figure size 432x288 with 1 Axes>"
      ]
     },
     "metadata": {
      "needs_background": "light",
      "tags": []
     },
     "output_type": "display_data"
    },
    {
     "data": {
      "image/png": "[encoded data removed]",
      "text/plain": [
       "<Figure size 432x288 with 1 Axes>"
      ]
     },
     "metadata": {
      "needs_background": "light",
      "tags": []
     },
     "output_type": "display_data"
    },
    {
     "data": {
      "image/png": "[encoded data removed]",
      "text/plain": [
       "<Figure size 432x288 with 1 Axes>"
      ]
     },
     "metadata": {
      "needs_background": "light",
      "tags": []
     },
     "output_type": "display_data"
    },
    {
     "data": {
      "image/png": "[encoded data removed]",
      "text/plain": [
       "<Figure size 432x288 with 1 Axes>"
      ]
     },
     "metadata": {
      "needs_background": "light",
      "tags": []
     },
     "output_type": "display_data"
    },
    {
     "data": {
      "image/png": "[encoded data removed]",
      "text/plain": [
       "<Figure size 432x288 with 1 Axes>"
      ]
     },
     "metadata": {
      "needs_background": "light",
      "tags": []
     },
     "output_type": "display_data"
    },
    {
     "data": {
      "image/png": "[encoded data removed]",
      "text/plain": [
       "<Figure size 432x288 with 1 Axes>"
      ]
     },
     "metadata": {
      "needs_background": "light",
      "tags": []
     },
     "output_type": "display_data"
    },
    {
     "data": {
      "image/png": "[encoded data removed]",
      "text/plain": [
       "<Figure size 432x288 with 1 Axes>"
      ]
     },
     "metadata": {
      "needs_background": "light",
      "tags": []
     },
     "output_type": "display_data"
    },
    {
     "data": {
      "image/png": "[encoded data removed]",
      "text/plain": [
       "<Figure size 432x288 with 1 Axes>"
      ]
     },
     "metadata": {
      "needs_background": "light",
      "tags": []
     },
     "output_type": "display_data"
    },
    {
     "data": {
      "image/png": "[encoded data removed]",
      "text/plain": [
       "<Figure size 432x288 with 1 Axes>"
      ]
     },
     "metadata": {
      "needs_background": "light",
      "tags": []
     },
     "output_type": "display_data"
    },
    {
     "data": {
      "image/png": "[encoded data removed]",
      "text/plain": [
       "<Figure size 432x288 with 1 Axes>"
      ]
     },
     "metadata": {
      "needs_background": "light",
      "tags": []
     },
     "output_type": "display_data"
    },
    {
     "data": {
      "image/png": "[encoded data removed]",
      "text/plain": [
       "<Figure size 432x288 with 1 Axes>"
      ]
     },
     "metadata": {
      "needs_background": "light",
      "tags": []
     },
     "output_type": "display_data"
    },
    {
     "data": {
      "image/png": "[encoded data removed]",
      "text/plain": [
       "<Figure size 432x288 with 1 Axes>"
      ]
     },
     "metadata": {
      "needs_background": "light",
      "tags": []
     },
     "output_type": "display_data"
    },
    {
     "data": {
      "image/png": "[encoded data removed]",
      "text/plain": [
       "<Figure size 432x288 with 1 Axes>"
      ]
     },
     "metadata": {
      "needs_background": "light",
      "tags": []
     },
     "output_type": "display_data"
    },
    {
     "data": {
      "image/png": "[encoded data removed]",
      "text/plain": [
       "<Figure size 432x288 with 1 Axes>"
      ]
     },
     "metadata": {
      "needs_background": "light",
      "tags": []
     },
     "output_type": "display_data"
    },
    {
     "data": {
      "image/png": "[encoded data removed]",
      "text/plain": [
       "<Figure size 432x288 with 1 Axes>"
      ]
     },
     "metadata": {
      "needs_background": "light",
      "tags": []
     },
     "output_type": "display_data"
    },
    {
     "data": {
      "image/png": "[encoded data removed]",
      "text/plain": [
       "<Figure size 432x288 with 1 Axes>"
      ]
     },
     "metadata": {
      "needs_background": "light",
      "tags": []
     },
     "output_type": "display_data"
    },
    {
     "data": {
      "image/png": "[encoded data removed]",
      "text/plain": [
       "<Figure size 432x288 with 1 Axes>"
      ]
     },
     "metadata": {
      "needs_background": "light",
      "tags": []
     },
     "output_type": "display_data"
    },
    {
     "data": {
      "image/png": "[encoded data removed]",
      "text/plain": [
       "<Figure size 432x288 with 1 Axes>"
      ]
     },
     "metadata": {
      "needs_background": "light",
      "tags": []
     },
     "output_type": "display_data"
    },
    {
     "data": {
      "image/png": "[encoded data removed]",
      "text/plain": [
       "<Figure size 432x288 with 1 Axes>"
      ]
     },
     "metadata": {
      "needs_background": "light",
      "tags": []
     },
     "output_type": "display_data"
    },
    {
     "data": {
      "image/png": "[encoded data removed]",
      "text/plain": [
       "<Figure size 432x288 with 1 Axes>"
      ]
     },
     "metadata": {
      "needs_background": "light",
      "tags": []
     },
     "output_type": "display_data"
    },
    {
     "data": {
      "image/png": "[encoded data removed]",
      "text/plain": [
       "<Figure size 432x288 with 1 Axes>"
      ]
     },
     "metadata": {
      "needs_background": "light",
      "tags": []
     },
     "output_type": "display_data"
    },
    {
     "data": {
      "image/png": "[encoded data removed]",
      "text/plain": [
       "<Figure size 432x288 with 1 Axes>"
      ]
     },
     "metadata": {
      "needs_background": "light",
      "tags": []
     },
     "output_type": "display_data"
    },
    {
     "data": {
      "image/png": "[encoded data removed]",
      "text/plain": [
       "<Figure size 432x288 with 1 Axes>"
      ]
     },
     "metadata": {
      "needs_background": "light",
      "tags": []
     },
     "output_type": "display_data"
    },
    {
     "data": {
      "image/png": "[encoded data removed]",
      "text/plain": [
       "<Figure size 432x288 with 1 Axes>"
      ]
     },
     "metadata": {
      "needs_background": "light",
      "tags": []
     },
     "output_type": "display_data"
    },
    {
     "data": {
      "image/png": "[encoded data removed]",
      "text/plain": [
       "<Figure size 432x288 with 1 Axes>"
      ]
     },
     "metadata": {
      "needs_background": "light",
      "tags": []
     },
     "output_type": "display_data"
    },
    {
     "data": {
      "image/png": "[encoded data removed]",
      "text/plain": [
       "<Figure size 432x288 with 1 Axes>"
      ]
     },
     "metadata": {
      "needs_background": "light",
      "tags": []
     },
     "output_type": "display_data"
    },
    {
     "data": {
      "image/png": "[encoded data removed]",
      "text/plain": [
       "<Figure size 432x288 with 1 Axes>"
      ]
     },
     "metadata": {
      "needs_background": "light",
      "tags": []
     },
     "output_type": "display_data"
    },
    {
     "data": {
      "image/png": "[encoded data removed]",
      "text/plain": [
       "<Figure size 432x288 with 1 Axes>"
      ]
     },
     "metadata": {
      "needs_background": "light",
      "tags": []
     },
     "output_type": "display_data"
    },
    {
     "data": {
      "image/png": "[encoded data removed]",
      "text/plain": [
       "<Figure size 432x288 with 1 Axes>"
      ]
     },
     "metadata": {
      "needs_background": "light",
      "tags": []
     },
     "output_type": "display_data"
    },
    {
     "data": {
      "image/png": "[encoded data removed]",
      "text/plain": [
       "<Figure size 432x288 with 1 Axes>"
      ]
     },
     "metadata": {
      "needs_background": "light",
      "tags": []
     },
     "output_type": "display_data"
    },
    {
     "data": {
      "image/png": "[encoded data removed]",
      "text/plain": [
       "<Figure size 432x288 with 1 Axes>"
      ]
     },
     "metadata": {
      "needs_background": "light",
      "tags": []
     },
     "output_type": "display_data"
    }
   ],
   "source": [
    "plotted(df,['SEVERITYCODE','REPORTNO','INCDATE','INCDTTM','LOCATION','ST_COLCODE','ST_COLDESC']).density_plt()"
   ]
  },
  {
   "cell_type": "code",
   "execution_count": 25,
   "metadata": {
    "colab": {},
    "colab_type": "code",
    "executionInfo": {
     "elapsed": 1670,
     "status": "ok",
     "timestamp": 1598344541424,
     "user": {
      "displayName": "Rahul Sharma",
      "photoUrl": "",
      "userId": "12186756602691074388"
     },
     "user_tz": -330
    },
    "id": "92AKTnTJG0qV"
   },
   "outputs": [],
   "source": [
    "#for i in colnames:\n",
    "#    print('Data Type of :', i ,'is ',df[i].dtype,' and Unique values are :',len(df[i].unique()),' and null values are :',df[i].isnull().sum())"
   ]
  },
  {
   "cell_type": "code",
   "execution_count": 26,
   "metadata": {
    "colab": {
     "base_uri": "https://localhost:8080/",
     "height": 85
    },
    "colab_type": "code",
    "executionInfo": {
     "elapsed": 3515,
     "status": "ok",
     "timestamp": 1598344548136,
     "user": {
      "displayName": "Rahul Sharma",
      "photoUrl": "",
      "userId": "12186756602691074388"
     },
     "user_tz": -330
    },
    "id": "uYY5OtL9G0qZ",
    "outputId": "ae52ea63-283a-41a3-a0ea-e2ef88632ab1"
   },
   "outputs": [
    {
     "name": "stdout",
     "output_type": "stream",
     "text": [
      "EXCEPTRSNDESC ['Not Enough Information, or Insufficient Location Information']\n",
      "INATTENTIONIND ['Y']\n",
      "PEDROWNOTGRNT ['Y']\n",
      "SPEEDING ['Y']\n"
     ]
    }
   ],
   "source": [
    "#Categorical Variables with only 1 value\n",
    "for i in df.columns:\n",
    "  if df[df[i].notnull()][i].nunique()==1:\n",
    "    print(i,df[df[i].notnull()][i].unique())"
   ]
  },
  {
   "cell_type": "code",
   "execution_count": 27,
   "metadata": {
    "colab": {
     "base_uri": "https://localhost:8080/",
     "height": 142
    },
    "colab_type": "code",
    "executionInfo": {
     "elapsed": 1148,
     "status": "ok",
     "timestamp": 1598344555175,
     "user": {
      "displayName": "Rahul Sharma",
      "photoUrl": "",
      "userId": "12186756602691074388"
     },
     "user_tz": -330
    },
    "id": "l3yCdwkmG0qc",
    "outputId": "3743721a-5976-47cf-cecd-46a16cd0c56f"
   },
   "outputs": [
    {
     "data": {
      "text/html": [
       "<div>\n",
       "<style scoped>\n",
       "    .dataframe tbody tr th:only-of-type {\n",
       "        vertical-align: middle;\n",
       "    }\n",
       "\n",
       "    .dataframe tbody tr th {\n",
       "        vertical-align: top;\n",
       "    }\n",
       "\n",
       "    .dataframe thead th {\n",
       "        text-align: right;\n",
       "    }\n",
       "</style>\n",
       "<table border=\"1\" class=\"dataframe\">\n",
       "  <thead>\n",
       "    <tr style=\"text-align: right;\">\n",
       "      <th></th>\n",
       "      <th>count</th>\n",
       "      <th>unique</th>\n",
       "      <th>top</th>\n",
       "      <th>freq</th>\n",
       "    </tr>\n",
       "    <tr>\n",
       "      <th>SEVERITYCODE</th>\n",
       "      <th></th>\n",
       "      <th></th>\n",
       "      <th></th>\n",
       "      <th></th>\n",
       "    </tr>\n",
       "  </thead>\n",
       "  <tbody>\n",
       "    <tr>\n",
       "      <th>1</th>\n",
       "      <td>5802</td>\n",
       "      <td>1</td>\n",
       "      <td>Y</td>\n",
       "      <td>5802</td>\n",
       "    </tr>\n",
       "    <tr>\n",
       "      <th>2</th>\n",
       "      <td>3531</td>\n",
       "      <td>1</td>\n",
       "      <td>Y</td>\n",
       "      <td>3531</td>\n",
       "    </tr>\n",
       "  </tbody>\n",
       "</table>\n",
       "</div>"
      ],
      "text/plain": [
       "             count unique top  freq\n",
       "SEVERITYCODE                       \n",
       "1             5802      1   Y  5802\n",
       "2             3531      1   Y  3531"
      ]
     },
     "execution_count": 27,
     "metadata": {
      "tags": []
     },
     "output_type": "execute_result"
    }
   ],
   "source": [
    "df.groupby('SEVERITYCODE')['SPEEDING'].describe()"
   ]
  },
  {
   "cell_type": "code",
   "execution_count": 28,
   "metadata": {
    "colab": {
     "base_uri": "https://localhost:8080/",
     "height": 317
    },
    "colab_type": "code",
    "executionInfo": {
     "elapsed": 1196,
     "status": "ok",
     "timestamp": 1598344577242,
     "user": {
      "displayName": "Rahul Sharma",
      "photoUrl": "",
      "userId": "12186756602691074388"
     },
     "user_tz": -330
    },
    "id": "RPKKRQlTG0qe",
    "outputId": "b7ced6bc-08b6-422d-c5e7-f5a706d2868e",
    "scrolled": true
   },
   "outputs": [
    {
     "data": {
      "text/html": [
       "<div>\n",
       "<style scoped>\n",
       "    .dataframe tbody tr th:only-of-type {\n",
       "        vertical-align: middle;\n",
       "    }\n",
       "\n",
       "    .dataframe tbody tr th {\n",
       "        vertical-align: top;\n",
       "    }\n",
       "\n",
       "    .dataframe thead th {\n",
       "        text-align: right;\n",
       "    }\n",
       "</style>\n",
       "<table border=\"1\" class=\"dataframe\">\n",
       "  <thead>\n",
       "    <tr style=\"text-align: right;\">\n",
       "      <th></th>\n",
       "      <th>SEVERITYCODE</th>\n",
       "      <th>X</th>\n",
       "      <th>Y</th>\n",
       "      <th>OBJECTID</th>\n",
       "      <th>INCKEY</th>\n",
       "      <th>COLDETKEY</th>\n",
       "      <th>INTKEY</th>\n",
       "      <th>SEVERITYCODE.1</th>\n",
       "      <th>PERSONCOUNT</th>\n",
       "      <th>PEDCOUNT</th>\n",
       "      <th>PEDCYLCOUNT</th>\n",
       "      <th>VEHCOUNT</th>\n",
       "      <th>SDOT_COLCODE</th>\n",
       "      <th>SDOTCOLNUM</th>\n",
       "      <th>SEGLANEKEY</th>\n",
       "      <th>CROSSWALKKEY</th>\n",
       "    </tr>\n",
       "  </thead>\n",
       "  <tbody>\n",
       "    <tr>\n",
       "      <th>count</th>\n",
       "      <td>194673.000000</td>\n",
       "      <td>189339.000000</td>\n",
       "      <td>189339.000000</td>\n",
       "      <td>194673.000000</td>\n",
       "      <td>194673.000000</td>\n",
       "      <td>194673.000000</td>\n",
       "      <td>65070.000000</td>\n",
       "      <td>194673.000000</td>\n",
       "      <td>194673.000000</td>\n",
       "      <td>194673.000000</td>\n",
       "      <td>194673.000000</td>\n",
       "      <td>194673.000000</td>\n",
       "      <td>194673.000000</td>\n",
       "      <td>1.149360e+05</td>\n",
       "      <td>194673.000000</td>\n",
       "      <td>1.946730e+05</td>\n",
       "    </tr>\n",
       "    <tr>\n",
       "      <th>mean</th>\n",
       "      <td>1.298901</td>\n",
       "      <td>-122.330518</td>\n",
       "      <td>47.619543</td>\n",
       "      <td>108479.364930</td>\n",
       "      <td>141091.456350</td>\n",
       "      <td>141298.811381</td>\n",
       "      <td>37558.450576</td>\n",
       "      <td>1.298901</td>\n",
       "      <td>2.444427</td>\n",
       "      <td>0.037139</td>\n",
       "      <td>0.028391</td>\n",
       "      <td>1.920780</td>\n",
       "      <td>13.867768</td>\n",
       "      <td>7.972521e+06</td>\n",
       "      <td>269.401114</td>\n",
       "      <td>9.782452e+03</td>\n",
       "    </tr>\n",
       "    <tr>\n",
       "      <th>std</th>\n",
       "      <td>0.457778</td>\n",
       "      <td>0.029976</td>\n",
       "      <td>0.056157</td>\n",
       "      <td>62649.722558</td>\n",
       "      <td>86634.402737</td>\n",
       "      <td>86986.542110</td>\n",
       "      <td>51745.990273</td>\n",
       "      <td>0.457778</td>\n",
       "      <td>1.345929</td>\n",
       "      <td>0.198150</td>\n",
       "      <td>0.167413</td>\n",
       "      <td>0.631047</td>\n",
       "      <td>6.868755</td>\n",
       "      <td>2.553533e+06</td>\n",
       "      <td>3315.776055</td>\n",
       "      <td>7.226926e+04</td>\n",
       "    </tr>\n",
       "    <tr>\n",
       "      <th>min</th>\n",
       "      <td>1.000000</td>\n",
       "      <td>-122.419091</td>\n",
       "      <td>47.495573</td>\n",
       "      <td>1.000000</td>\n",
       "      <td>1001.000000</td>\n",
       "      <td>1001.000000</td>\n",
       "      <td>23807.000000</td>\n",
       "      <td>1.000000</td>\n",
       "      <td>0.000000</td>\n",
       "      <td>0.000000</td>\n",
       "      <td>0.000000</td>\n",
       "      <td>0.000000</td>\n",
       "      <td>0.000000</td>\n",
       "      <td>1.007024e+06</td>\n",
       "      <td>0.000000</td>\n",
       "      <td>0.000000e+00</td>\n",
       "    </tr>\n",
       "    <tr>\n",
       "      <th>25%</th>\n",
       "      <td>1.000000</td>\n",
       "      <td>-122.348673</td>\n",
       "      <td>47.575956</td>\n",
       "      <td>54267.000000</td>\n",
       "      <td>70383.000000</td>\n",
       "      <td>70383.000000</td>\n",
       "      <td>28667.000000</td>\n",
       "      <td>1.000000</td>\n",
       "      <td>2.000000</td>\n",
       "      <td>0.000000</td>\n",
       "      <td>0.000000</td>\n",
       "      <td>2.000000</td>\n",
       "      <td>11.000000</td>\n",
       "      <td>6.040015e+06</td>\n",
       "      <td>0.000000</td>\n",
       "      <td>0.000000e+00</td>\n",
       "    </tr>\n",
       "    <tr>\n",
       "      <th>50%</th>\n",
       "      <td>1.000000</td>\n",
       "      <td>-122.330224</td>\n",
       "      <td>47.615369</td>\n",
       "      <td>106912.000000</td>\n",
       "      <td>123363.000000</td>\n",
       "      <td>123363.000000</td>\n",
       "      <td>29973.000000</td>\n",
       "      <td>1.000000</td>\n",
       "      <td>2.000000</td>\n",
       "      <td>0.000000</td>\n",
       "      <td>0.000000</td>\n",
       "      <td>2.000000</td>\n",
       "      <td>13.000000</td>\n",
       "      <td>8.023022e+06</td>\n",
       "      <td>0.000000</td>\n",
       "      <td>0.000000e+00</td>\n",
       "    </tr>\n",
       "    <tr>\n",
       "      <th>75%</th>\n",
       "      <td>2.000000</td>\n",
       "      <td>-122.311937</td>\n",
       "      <td>47.663664</td>\n",
       "      <td>162272.000000</td>\n",
       "      <td>203319.000000</td>\n",
       "      <td>203459.000000</td>\n",
       "      <td>33973.000000</td>\n",
       "      <td>2.000000</td>\n",
       "      <td>3.000000</td>\n",
       "      <td>0.000000</td>\n",
       "      <td>0.000000</td>\n",
       "      <td>2.000000</td>\n",
       "      <td>14.000000</td>\n",
       "      <td>1.015501e+07</td>\n",
       "      <td>0.000000</td>\n",
       "      <td>0.000000e+00</td>\n",
       "    </tr>\n",
       "    <tr>\n",
       "      <th>max</th>\n",
       "      <td>2.000000</td>\n",
       "      <td>-122.238949</td>\n",
       "      <td>47.734142</td>\n",
       "      <td>219547.000000</td>\n",
       "      <td>331454.000000</td>\n",
       "      <td>332954.000000</td>\n",
       "      <td>757580.000000</td>\n",
       "      <td>2.000000</td>\n",
       "      <td>81.000000</td>\n",
       "      <td>6.000000</td>\n",
       "      <td>2.000000</td>\n",
       "      <td>12.000000</td>\n",
       "      <td>69.000000</td>\n",
       "      <td>1.307202e+07</td>\n",
       "      <td>525241.000000</td>\n",
       "      <td>5.239700e+06</td>\n",
       "    </tr>\n",
       "  </tbody>\n",
       "</table>\n",
       "</div>"
      ],
      "text/plain": [
       "        SEVERITYCODE              X  ...     SEGLANEKEY  CROSSWALKKEY\n",
       "count  194673.000000  189339.000000  ...  194673.000000  1.946730e+05\n",
       "mean        1.298901    -122.330518  ...     269.401114  9.782452e+03\n",
       "std         0.457778       0.029976  ...    3315.776055  7.226926e+04\n",
       "min         1.000000    -122.419091  ...       0.000000  0.000000e+00\n",
       "25%         1.000000    -122.348673  ...       0.000000  0.000000e+00\n",
       "50%         1.000000    -122.330224  ...       0.000000  0.000000e+00\n",
       "75%         2.000000    -122.311937  ...       0.000000  0.000000e+00\n",
       "max         2.000000    -122.238949  ...  525241.000000  5.239700e+06\n",
       "\n",
       "[8 rows x 16 columns]"
      ]
     },
     "execution_count": 28,
     "metadata": {
      "tags": []
     },
     "output_type": "execute_result"
    }
   ],
   "source": [
    "df.describe()"
   ]
  },
  {
   "cell_type": "markdown",
   "metadata": {
    "colab_type": "text",
    "id": "ydGEFYa63Inh"
   },
   "source": [
    "###BiVariate Analysis"
   ]
  },
  {
   "cell_type": "code",
   "execution_count": 29,
   "metadata": {
    "colab": {},
    "colab_type": "code",
    "executionInfo": {
     "elapsed": 1386,
     "status": "ok",
     "timestamp": 1598344595361,
     "user": {
      "displayName": "Rahul Sharma",
      "photoUrl": "",
      "userId": "12186756602691074388"
     },
     "user_tz": -330
    },
    "id": "V0kOnraxxUE-"
   },
   "outputs": [],
   "source": [
    "#Crosstab Categorical Variables with Target Variable\n",
    "def cat_bivariate_crosstabs(x,todrop):\n",
    "  df_cat = x.drop(columns=todrop)\n",
    "  df_cat = df_cat.select_dtypes(include=['object','bool'])\n",
    "  print(df_cat.columns)\n",
    "  for col in df_cat.columns:\n",
    "    print(pd.crosstab(x['SEVERITYCODE'],x[col]))\n",
    "\n",
    "  "
   ]
  },
  {
   "cell_type": "code",
   "execution_count": 30,
   "metadata": {
    "colab": {
     "base_uri": "https://localhost:8080/",
     "height": 1000
    },
    "colab_type": "code",
    "executionInfo": {
     "elapsed": 81553,
     "status": "ok",
     "timestamp": 1598344696217,
     "user": {
      "displayName": "Rahul Sharma",
      "photoUrl": "",
      "userId": "12186756602691074388"
     },
     "user_tz": -330
    },
    "id": "FOkM3VHOxUIb",
    "outputId": "6971c956-d95b-4fa7-a437-320dca2d72db"
   },
   "outputs": [
    {
     "name": "stdout",
     "output_type": "stream",
     "text": [
      "Index(['REPORTNO', 'STATUS', 'ADDRTYPE', 'LOCATION', 'EXCEPTRSNCODE',\n",
      "       'EXCEPTRSNDESC', 'SEVERITYDESC', 'COLLISIONTYPE', 'INCDATE', 'INCDTTM',\n",
      "       'JUNCTIONTYPE', 'SDOT_COLDESC', 'INATTENTIONIND', 'UNDERINFL',\n",
      "       'WEATHER', 'ROADCOND', 'LIGHTCOND', 'PEDROWNOTGRNT', 'SPEEDING',\n",
      "       'ST_COLCODE', 'ST_COLDESC', 'HITPARKEDCAR'],\n",
      "      dtype='object')\n",
      "REPORTNO      1007488  1007489  1007491  ...  e392544  e463420  e943304\n",
      "SEVERITYCODE                             ...                           \n",
      "1                   0        1        1  ...        1        1        1\n",
      "2                   1        0        0  ...        0        0        0\n",
      "\n",
      "[2 rows x 194670 columns]\n",
      "STATUS        Matched  Unmatched\n",
      "SEVERITYCODE                    \n",
      "1              132627       3858\n",
      "2               57159       1029\n",
      "ADDRTYPE      Alley  Block  Intersection\n",
      "SEVERITYCODE                            \n",
      "1               669  96830         37251\n",
      "2                82  30096         27819\n",
      "LOCATION      10TH AVE AND E ALDER ST  ...  YUKON AVE S AND S HENDERSON ST\n",
      "SEVERITYCODE                           ...                                \n",
      "1                                   1  ...                               1\n",
      "2                                   0  ...                               2\n",
      "\n",
      "[2 rows x 24102 columns]\n",
      "EXCEPTRSNCODE          NEI\n",
      "SEVERITYCODE              \n",
      "1              52640  5123\n",
      "2              26533   515\n",
      "EXCEPTRSNDESC  Not Enough Information, or Insufficient Location Information\n",
      "SEVERITYCODE                                                               \n",
      "1                                                           5123           \n",
      "2                                                            515           \n",
      "SEVERITYDESC  Injury Collision  Property Damage Only Collision\n",
      "SEVERITYCODE                                                  \n",
      "1                            0                          136485\n",
      "2                        58188                               0\n",
      "COLLISIONTYPE  Angles  Cycles  Head On  ...  Rear Ended  Right Turn  Sideswipe\n",
      "SEVERITYCODE                            ...                                   \n",
      "1               21050     671     1152  ...       19419        2347      16103\n",
      "2               13624    4744      872  ...       14671         609       2506\n",
      "\n",
      "[2 rows x 10 columns]\n",
      "INCDATE       2004/01/01 00:00:00+00  ...  2020/05/20 00:00:00+00\n",
      "SEVERITYCODE                          ...                        \n",
      "1                                 15  ...                       0\n",
      "2                                 10  ...                       1\n",
      "\n",
      "[2 rows x 5985 columns]\n",
      "INCDTTM       1/1/2004  1/1/2005  ...  9/9/2019 9:10:00 PM  9/9/2019 9:27:00 AM\n",
      "SEVERITYCODE                      ...                                          \n",
      "1                   15        25  ...                    1                    0\n",
      "2                   10        10  ...                    0                    1\n",
      "\n",
      "[2 rows x 162058 columns]\n",
      "JUNCTIONTYPE  At Intersection (but not related to intersection)  ...  Unknown\n",
      "SEVERITYCODE                                                     ...         \n",
      "1                                                          1475  ...        7\n",
      "2                                                           623  ...        2\n",
      "\n",
      "[2 rows x 7 columns]\n",
      "SDOT_COLDESC  DRIVERLESS VEHICLE RAN OFF ROAD - HIT FIXED OBJECT  ...  PEDALCYCLIST STRUCK PEDESTRIAN\n",
      "SEVERITYCODE                                                      ...                                \n",
      "1                                                            96   ...                               3\n",
      "2                                                            11   ...                              72\n",
      "\n",
      "[2 rows x 39 columns]\n",
      "INATTENTIONIND      Y\n",
      "SEVERITYCODE         \n",
      "1               19408\n",
      "2               10397\n",
      "UNDERINFL         0     1      N     Y\n",
      "SEVERITYCODE                          \n",
      "1             57693  2372  69378  3187\n",
      "2             22701  1623  30896  1939\n",
      "WEATHER       Blowing Sand/Dirt  Clear  ...  Snowing  Unknown\n",
      "SEVERITYCODE                            ...                  \n",
      "1                            41  75295  ...      736    14275\n",
      "2                            15  35840  ...      171      816\n",
      "\n",
      "[2 rows x 11 columns]\n",
      "ROADCOND        Dry  Ice  Oil  ...  Standing Water  Unknown    Wet\n",
      "SEVERITYCODE                   ...                                \n",
      "1             84446  936   40  ...              85    14329  31719\n",
      "2             40064  273   24  ...              30      749  15755\n",
      "\n",
      "[2 rows x 9 columns]\n",
      "LIGHTCOND     Dark - No Street Lights  Dark - Street Lights Off  ...  Other  Unknown\n",
      "SEVERITYCODE                                                     ...                \n",
      "1                                1203                       883  ...    183    12868\n",
      "2                                 334                       316  ...     52      605\n",
      "\n",
      "[2 rows x 9 columns]\n",
      "PEDROWNOTGRNT     Y\n",
      "SEVERITYCODE       \n",
      "1               460\n",
      "2              4207\n",
      "SPEEDING         Y\n",
      "SEVERITYCODE      \n",
      "1             5802\n",
      "2             3531\n",
      "ST_COLCODE             0     1     10     11    12  ...  82  83  84  85  87  88\n",
      "SEVERITYCODE                                        ...                        \n",
      "1             3858   315   142  21050  11016  2188  ...  33  65  62   1   0   5\n",
      "2             1028  2567  1059  13624   1761   247  ...   2  21  32   0   2   3\n",
      "\n",
      "[2 rows x 63 columns]\n",
      "ST_COLDESC    All Other Multi Vehicle  ...  Vehicle turning right hits pedestrian\n",
      "SEVERITYCODE                           ...                                       \n",
      "1                                   5  ...                                    142\n",
      "2                                   3  ...                                   1059\n",
      "\n",
      "[2 rows x 62 columns]\n",
      "HITPARKEDCAR       N     Y\n",
      "SEVERITYCODE              \n",
      "1             129717  6768\n",
      "2              57740   448\n"
     ]
    }
   ],
   "source": [
    "cat_bivariate_crosstabs(df,['SEVERITYCODE'])  "
   ]
  },
  {
   "cell_type": "code",
   "execution_count": 72,
   "metadata": {
    "colab": {},
    "colab_type": "code",
    "executionInfo": {
     "elapsed": 1260,
     "status": "ok",
     "timestamp": 1598345834398,
     "user": {
      "displayName": "Rahul Sharma",
      "photoUrl": "",
      "userId": "12186756602691074388"
     },
     "user_tz": -330
    },
    "id": "f84ERPZWxULe"
   },
   "outputs": [],
   "source": [
    "### remove because trivial = ['OBJECTID','REPORTNO','INCKEY','INTKEY',''COLDETKEY','SEVERITYCODE.1','LOCATION']\n",
    "### remove because of very high null percentage: ['INATTENTIONIND', 'PEDROWNOTGRNT','SPEEDING',]\n",
    "### remove because code exists: ['SDOT_COLDESC','SEVERITYDESC']\n",
    "### remove because no information available: ['EXCEPTRSNCODE','EXCEPTRSNDESC','SEGLANEKEY',   'CROSSWALKKEY','SDOTCOLNUM']\n",
    "### remove because used to create derived columns = ['INCDTTM','INCDATE']\n",
    "\n",
    "#New Features:\n",
    "# INCDTTM get time of the day (AM/PM) : TimeOfDay\n",
    "#INCDATE get month of the year, day of the week (weekend/weekday) : MonthOfYear, DayOfWeek\n",
    "\n",
    "#Missing value Treatment\n",
    "#xxxxxxxreplace null with N in PEDROWNOTGRNT, SPEEDINGxxxxx\n",
    "#replace N with 0 and Y with 1 in UNDERINFL \n",
    "#fill with mode in case of X,Y\n",
    "#Replace NAN with Block on ADDRTYPE\n",
    "\n",
    "#Feature Encoding\n",
    "#STATUS\n",
    "#ADDRTYPE\n",
    "#COLLISIONTYPE\n",
    "\n",
    "#important Features: 'HITPARKEDCAR', 'LIGHTCOND', 'ROADCOND', 'WEATHER', 'UNDERINFL', 'JUNCTIONTYPE', 'COLLISIONTYPE', 'STATUS','ADDRTYPE',ST_COLCODE"
   ]
  },
  {
   "cell_type": "code",
   "execution_count": 73,
   "metadata": {
    "colab": {},
    "colab_type": "code",
    "executionInfo": {
     "elapsed": 1440,
     "status": "ok",
     "timestamp": 1598345839048,
     "user": {
      "displayName": "Rahul Sharma",
      "photoUrl": "",
      "userId": "12186756602691074388"
     },
     "user_tz": -330
    },
    "id": "y8V8FfuLmtDN"
   },
   "outputs": [],
   "source": [
    "#Analyzing Relationship between ST_COLCODE and ST_COLDESC"
   ]
  },
  {
   "cell_type": "code",
   "execution_count": 74,
   "metadata": {
    "colab": {
     "base_uri": "https://localhost:8080/",
     "height": 272
    },
    "colab_type": "code",
    "executionInfo": {
     "elapsed": 1297,
     "status": "ok",
     "timestamp": 1598345841138,
     "user": {
      "displayName": "Rahul Sharma",
      "photoUrl": "",
      "userId": "12186756602691074388"
     },
     "user_tz": -330
    },
    "id": "U7U9fVoWjPQN",
    "outputId": "d18b43ce-465d-4aef-c141-c1216cd866f5"
   },
   "outputs": [
    {
     "name": "stdout",
     "output_type": "stream",
     "text": [
      "                                                   ST_COLDESC\n",
      "ST_COLCODE                                                   \n",
      "                                                        [nan]\n",
      "0                    [Vehicle going straight hits pedestrian]\n",
      "1                     [Vehicle turning right hits pedestrian]\n",
      "10                                        [Entering at angle]\n",
      "11          [From same direction - both going straight - b...\n",
      "...                                                       ...\n",
      "83          [Same direction -- both turning left -- both m...\n",
      "84          [Same direction -- both turning left -- one st...\n",
      "85                                     [Vehicle Strikes Deer]\n",
      "87            [Vehicle Strikes All Other Non-Domestic Animal]\n",
      "88                                  [All Other Multi Vehicle]\n",
      "\n",
      "[63 rows x 1 columns]\n"
     ]
    }
   ],
   "source": [
    "temp1=pd.DataFrame(df.groupby('ST_COLCODE')['ST_COLDESC'].unique())\n",
    "print(temp1)"
   ]
  },
  {
   "cell_type": "code",
   "execution_count": 76,
   "metadata": {
    "colab": {
     "base_uri": "https://localhost:8080/",
     "height": 301
    },
    "colab_type": "code",
    "executionInfo": {
     "elapsed": 1205,
     "status": "ok",
     "timestamp": 1598345866194,
     "user": {
      "displayName": "Rahul Sharma",
      "photoUrl": "",
      "userId": "12186756602691074388"
     },
     "user_tz": -330
    },
    "id": "ga541uu6lDF2",
    "outputId": "cb61c9aa-e26b-4e52-8d63-fd8074c3be3e"
   },
   "outputs": [
    {
     "data": {
      "text/html": [
       "<div>\n",
       "<style scoped>\n",
       "    .dataframe tbody tr th:only-of-type {\n",
       "        vertical-align: middle;\n",
       "    }\n",
       "\n",
       "    .dataframe tbody tr th {\n",
       "        vertical-align: top;\n",
       "    }\n",
       "\n",
       "    .dataframe thead th {\n",
       "        text-align: right;\n",
       "    }\n",
       "</style>\n",
       "<table border=\"1\" class=\"dataframe\">\n",
       "  <thead>\n",
       "    <tr style=\"text-align: right;\">\n",
       "      <th></th>\n",
       "      <th>SEVERITYCODE</th>\n",
       "      <th>X</th>\n",
       "      <th>Y</th>\n",
       "      <th>OBJECTID</th>\n",
       "      <th>INCKEY</th>\n",
       "      <th>COLDETKEY</th>\n",
       "      <th>REPORTNO</th>\n",
       "      <th>STATUS</th>\n",
       "      <th>ADDRTYPE</th>\n",
       "      <th>INTKEY</th>\n",
       "      <th>LOCATION</th>\n",
       "      <th>EXCEPTRSNCODE</th>\n",
       "      <th>EXCEPTRSNDESC</th>\n",
       "      <th>SEVERITYCODE.1</th>\n",
       "      <th>SEVERITYDESC</th>\n",
       "      <th>COLLISIONTYPE</th>\n",
       "      <th>PERSONCOUNT</th>\n",
       "      <th>PEDCOUNT</th>\n",
       "      <th>PEDCYLCOUNT</th>\n",
       "      <th>VEHCOUNT</th>\n",
       "      <th>INCDATE</th>\n",
       "      <th>INCDTTM</th>\n",
       "      <th>JUNCTIONTYPE</th>\n",
       "      <th>SDOT_COLCODE</th>\n",
       "      <th>SDOT_COLDESC</th>\n",
       "      <th>INATTENTIONIND</th>\n",
       "      <th>UNDERINFL</th>\n",
       "      <th>WEATHER</th>\n",
       "      <th>ROADCOND</th>\n",
       "      <th>LIGHTCOND</th>\n",
       "      <th>PEDROWNOTGRNT</th>\n",
       "      <th>SDOTCOLNUM</th>\n",
       "      <th>SPEEDING</th>\n",
       "      <th>ST_COLCODE</th>\n",
       "      <th>ST_COLDESC</th>\n",
       "      <th>SEGLANEKEY</th>\n",
       "      <th>CROSSWALKKEY</th>\n",
       "      <th>HITPARKEDCAR</th>\n",
       "    </tr>\n",
       "  </thead>\n",
       "  <tbody>\n",
       "    <tr>\n",
       "      <th>15</th>\n",
       "      <td>1</td>\n",
       "      <td>-122.337663</td>\n",
       "      <td>47.617510</td>\n",
       "      <td>20</td>\n",
       "      <td>330878</td>\n",
       "      <td>332378</td>\n",
       "      <td>3838086</td>\n",
       "      <td>Unmatched</td>\n",
       "      <td>Block</td>\n",
       "      <td>NaN</td>\n",
       "      <td>9TH AVE BETWEEN LENORA ST AND BLANCHARD ST</td>\n",
       "      <td></td>\n",
       "      <td>NaN</td>\n",
       "      <td>1</td>\n",
       "      <td>Property Damage Only Collision</td>\n",
       "      <td>NaN</td>\n",
       "      <td>1</td>\n",
       "      <td>0</td>\n",
       "      <td>0</td>\n",
       "      <td>0</td>\n",
       "      <td>2020/04/20 00:00:00+00</td>\n",
       "      <td>4/20/2020</td>\n",
       "      <td>Driveway Junction</td>\n",
       "      <td>26</td>\n",
       "      <td>MOTOR VEHICLE STRUCK OBJECT IN ROAD</td>\n",
       "      <td>NaN</td>\n",
       "      <td>NaN</td>\n",
       "      <td>NaN</td>\n",
       "      <td>NaN</td>\n",
       "      <td>NaN</td>\n",
       "      <td>NaN</td>\n",
       "      <td>NaN</td>\n",
       "      <td>NaN</td>\n",
       "      <td></td>\n",
       "      <td>NaN</td>\n",
       "      <td>0</td>\n",
       "      <td>0</td>\n",
       "      <td>N</td>\n",
       "    </tr>\n",
       "    <tr>\n",
       "      <th>36</th>\n",
       "      <td>1</td>\n",
       "      <td>-122.335727</td>\n",
       "      <td>47.613363</td>\n",
       "      <td>45</td>\n",
       "      <td>330925</td>\n",
       "      <td>332425</td>\n",
       "      <td>3838128</td>\n",
       "      <td>Unmatched</td>\n",
       "      <td>Block</td>\n",
       "      <td>NaN</td>\n",
       "      <td>OLIVE WAY BETWEEN 6TH AVE AND 7TH AVE</td>\n",
       "      <td></td>\n",
       "      <td>NaN</td>\n",
       "      <td>1</td>\n",
       "      <td>Property Damage Only Collision</td>\n",
       "      <td>NaN</td>\n",
       "      <td>4</td>\n",
       "      <td>0</td>\n",
       "      <td>0</td>\n",
       "      <td>0</td>\n",
       "      <td>2020/03/13 00:00:00+00</td>\n",
       "      <td>3/13/2020</td>\n",
       "      <td>Driveway Junction</td>\n",
       "      <td>11</td>\n",
       "      <td>MOTOR VEHICLE STRUCK MOTOR VEHICLE, FRONT END ...</td>\n",
       "      <td>NaN</td>\n",
       "      <td>NaN</td>\n",
       "      <td>NaN</td>\n",
       "      <td>NaN</td>\n",
       "      <td>NaN</td>\n",
       "      <td>NaN</td>\n",
       "      <td>NaN</td>\n",
       "      <td>NaN</td>\n",
       "      <td></td>\n",
       "      <td>NaN</td>\n",
       "      <td>0</td>\n",
       "      <td>0</td>\n",
       "      <td>N</td>\n",
       "    </tr>\n",
       "  </tbody>\n",
       "</table>\n",
       "</div>"
      ],
      "text/plain": [
       "    SEVERITYCODE           X          Y  ...  SEGLANEKEY  CROSSWALKKEY  HITPARKEDCAR\n",
       "15             1 -122.337663  47.617510  ...           0             0             N\n",
       "36             1 -122.335727  47.613363  ...           0             0             N\n",
       "\n",
       "[2 rows x 38 columns]"
      ]
     },
     "execution_count": 76,
     "metadata": {
      "tags": []
     },
     "output_type": "execute_result"
    }
   ],
   "source": [
    "df[df['ST_COLDESC'].isnull()].head(2)"
   ]
  },
  {
   "cell_type": "code",
   "execution_count": 35,
   "metadata": {
    "colab": {
     "base_uri": "https://localhost:8080/",
     "height": 221
    },
    "colab_type": "code",
    "executionInfo": {
     "elapsed": 1293,
     "status": "ok",
     "timestamp": 1598344794139,
     "user": {
      "displayName": "Rahul Sharma",
      "photoUrl": "",
      "userId": "12186756602691074388"
     },
     "user_tz": -330
    },
    "id": "fUFTVogfxclB",
    "outputId": "702c40a1-04b1-4d2e-f12c-900fa186f5da"
   },
   "outputs": [
    {
     "data": {
      "text/plain": [
       "32    44421\n",
       "10    34674\n",
       "14    25771\n",
       "50    13554\n",
       "11    12777\n",
       "      ...  \n",
       "43        2\n",
       "87        2\n",
       "49        1\n",
       "85        1\n",
       "60        1\n",
       "Name: ST_COLCODE, Length: 63, dtype: int64"
      ]
     },
     "execution_count": 35,
     "metadata": {
      "tags": []
     },
     "output_type": "execute_result"
    }
   ],
   "source": [
    "df['ST_COLCODE'].value_counts()"
   ]
  },
  {
   "cell_type": "code",
   "execution_count": 43,
   "metadata": {
    "colab": {
     "base_uri": "https://localhost:8080/",
     "height": 68
    },
    "colab_type": "code",
    "executionInfo": {
     "elapsed": 1455,
     "status": "ok",
     "timestamp": 1598345090299,
     "user": {
      "displayName": "Rahul Sharma",
      "photoUrl": "",
      "userId": "12186756602691074388"
     },
     "user_tz": -330
    },
    "id": "mKWv73lgxruK",
    "outputId": "f6df41e4-08bb-4dd8-c6e6-904e8769ffd2"
   },
   "outputs": [
    {
     "data": {
      "text/plain": [
       "1    42276\n",
       "2     2145\n",
       "Name: SEVERITYCODE, dtype: int64"
      ]
     },
     "execution_count": 43,
     "metadata": {
      "tags": []
     },
     "output_type": "execute_result"
    }
   ],
   "source": [
    "df[df['ST_COLCODE']=='32']['SEVERITYCODE'].value_counts()"
   ]
  },
  {
   "cell_type": "code",
   "execution_count": 132,
   "metadata": {
    "colab": {
     "base_uri": "https://localhost:8080/",
     "height": 34
    },
    "colab_type": "code",
    "executionInfo": {
     "elapsed": 1223,
     "status": "ok",
     "timestamp": 1598348024790,
     "user": {
      "displayName": "Rahul Sharma",
      "photoUrl": "",
      "userId": "12186756602691074388"
     },
     "user_tz": -330
    },
    "id": "sNLefrzk1Hz5",
    "outputId": "8af2146e-9499-44e0-db6b-33272bd1e4b8"
   },
   "outputs": [
    {
     "data": {
      "text/plain": [
       "dtype('O')"
      ]
     },
     "execution_count": 132,
     "metadata": {
      "tags": []
     },
     "output_type": "execute_result"
    }
   ],
   "source": [
    "#replacing ST_COLCODE missing values with the mode\n",
    "df['ST_COLCODE'].dtypes"
   ]
  },
  {
   "cell_type": "code",
   "execution_count": 133,
   "metadata": {
    "colab": {
     "base_uri": "https://localhost:8080/",
     "height": 34
    },
    "colab_type": "code",
    "executionInfo": {
     "elapsed": 1289,
     "status": "ok",
     "timestamp": 1598348032418,
     "user": {
      "displayName": "Rahul Sharma",
      "photoUrl": "",
      "userId": "12186756602691074388"
     },
     "user_tz": -330
    },
    "id": "8Ls5WkUByx2I",
    "outputId": "c5f89080-17c2-4db2-ca1e-8e2b6279f1ef"
   },
   "outputs": [
    {
     "data": {
      "text/plain": [
       "dtype('O')"
      ]
     },
     "execution_count": 133,
     "metadata": {
      "tags": []
     },
     "output_type": "execute_result"
    }
   ],
   "source": [
    "\n",
    "df['ST_COLCODE'].fillna(df.ST_COLCODE.value_counts().index[0], inplace=True)\n",
    "df['ST_COLCODE'].dtypes"
   ]
  },
  {
   "cell_type": "code",
   "execution_count": 134,
   "metadata": {
    "colab": {
     "base_uri": "https://localhost:8080/",
     "height": 34
    },
    "colab_type": "code",
    "executionInfo": {
     "elapsed": 1189,
     "status": "ok",
     "timestamp": 1598348036788,
     "user": {
      "displayName": "Rahul Sharma",
      "photoUrl": "",
      "userId": "12186756602691074388"
     },
     "user_tz": -330
    },
    "id": "rabdCveDyx5K",
    "outputId": "eb30bb75-be5a-4cbc-95ff-34c7dfdf4130"
   },
   "outputs": [
    {
     "data": {
      "text/plain": [
       "0"
      ]
     },
     "execution_count": 134,
     "metadata": {
      "tags": []
     },
     "output_type": "execute_result"
    }
   ],
   "source": [
    "df.ST_COLCODE.isnull().sum()"
   ]
  },
  {
   "cell_type": "code",
   "execution_count": 135,
   "metadata": {
    "colab": {
     "base_uri": "https://localhost:8080/",
     "height": 34
    },
    "colab_type": "code",
    "executionInfo": {
     "elapsed": 1331,
     "status": "ok",
     "timestamp": 1598348042410,
     "user": {
      "displayName": "Rahul Sharma",
      "photoUrl": "",
      "userId": "12186756602691074388"
     },
     "user_tz": -330
    },
    "id": "Izsgl4B8143f",
    "outputId": "4d8a752b-2ad2-4cba-f4c2-4d5003d6e825"
   },
   "outputs": [
    {
     "data": {
      "text/plain": [
       "0"
      ]
     },
     "execution_count": 135,
     "metadata": {
      "tags": []
     },
     "output_type": "execute_result"
    }
   ],
   "source": [
    "df[df['ST_COLDESC'].isnull()]['ST_COLCODE'].isnull().sum()"
   ]
  },
  {
   "cell_type": "code",
   "execution_count": 136,
   "metadata": {
    "colab": {},
    "colab_type": "code",
    "executionInfo": {
     "elapsed": 1147,
     "status": "ok",
     "timestamp": 1598348045337,
     "user": {
      "displayName": "Rahul Sharma",
      "photoUrl": "",
      "userId": "12186756602691074388"
     },
     "user_tz": -330
    },
    "id": "49THJ_remrle"
   },
   "outputs": [],
   "source": [
    "#Analyzing Relationship between SDOT_COLCODE and SDOT_COLDESC"
   ]
  },
  {
   "cell_type": "code",
   "execution_count": 84,
   "metadata": {
    "colab": {
     "base_uri": "https://localhost:8080/",
     "height": 714
    },
    "colab_type": "code",
    "executionInfo": {
     "elapsed": 912,
     "status": "ok",
     "timestamp": 1598346040284,
     "user": {
      "displayName": "Rahul Sharma",
      "photoUrl": "",
      "userId": "12186756602691074388"
     },
     "user_tz": -330
    },
    "id": "c0mgF9nZm3IS",
    "outputId": "25103051-52d5-4053-973c-33321a877ada"
   },
   "outputs": [
    {
     "data": {
      "text/plain": [
       "SDOT_COLCODE\n",
       "0             [NOT ENOUGH INFORMATION / NOT APPLICABLE]\n",
       "11    [MOTOR VEHICLE STRUCK MOTOR VEHICLE, FRONT END...\n",
       "12    [MOTOR VEHICLE STRUCK MOTOR VEHICLE, RIGHT SID...\n",
       "13    [MOTOR VEHICLE STRUCK MOTOR VEHICLE, LEFT SIDE...\n",
       "14       [MOTOR VEHICLE STRUCK MOTOR VEHICLE, REAR END]\n",
       "15    [MOTOR VEHICLE STRUCK MOTOR VEHICLE, RIGHT SID...\n",
       "16    [MOTOR VEHICLE STRUCK MOTOR VEHICLE, LEFT SIDE...\n",
       "18    [MOTOR VEHICLE STRUCK PEDALCYCLIST, FRONT END ...\n",
       "21        [MOTOR VEHICLE STRUCK PEDALCYCLIST, REAR END]\n",
       "22    [MOTOR VEHICLE STRUCK PEDALCYCLIST, RIGHT SIDE...\n",
       "23    [MOTOR VEHICLE STRUCK PEDALCYCLIST, LEFT SIDE ...\n",
       "24                    [MOTOR VEHCILE STRUCK PEDESTRIAN]\n",
       "25                         [MOTOR VEHICLE STRUCK TRAIN]\n",
       "26                [MOTOR VEHICLE STRUCK OBJECT IN ROAD]\n",
       "27          [MOTOR VEHICLE RAN OFF ROAD - NO COLLISION]\n",
       "28      [MOTOR VEHICLE RAN OFF ROAD - HIT FIXED OBJECT]\n",
       "29                   [MOTOR VEHICLE OVERTURNED IN ROAD]\n",
       "31    [DRIVERLESS VEHICLE STRUCK MOTOR VEHICLE FRONT...\n",
       "32    [DRIVERLESS VEHICLE STRUCK MOTOR VEHICLE RIGHT...\n",
       "33    [DRIVERLESS VEHICLE STRUCK MOTOR VEHICLE LEFT ...\n",
       "34    [DRIVERLESS VEHICLE STRUCK MOTOR VEHICLE REAR ...\n",
       "35    [DRIVERLESS VEHICLE STRUCK MOTOR VEHICLE RIGHT...\n",
       "36    [DRIVERLESS VEHICLE STRUCK MOTOR VEHICLE LEFT ...\n",
       "44               [DRIVERLESS VEHICLE STRUCK PEDESTRIAN]\n",
       "46        [DRIVERLESS VEHICLE STRUCK OBJECT IN ROADWAY]\n",
       "47     [DRIVERLESS VEHICLE RAN OFF ROAD - NO COLLISION]\n",
       "48    [DRIVERLESS VEHICLE RAN OFF ROAD - HIT FIXED O...\n",
       "51    [PEDALCYCLIST STRUCK MOTOR VEHICLE FRONT END A...\n",
       "52    [PEDALCYCLIST STRUCK MOTOR VEHICLE RIGHT SIDE ...\n",
       "53    [PEDALCYCLIST STRUCK MOTOR VEHICLE LEFT SIDE A...\n",
       "54         [PEDALCYCLIST STRUCK MOTOR VEHICLE REAR END]\n",
       "55    [PEDALCYCLIST STRUCK MOTOR VEHICLE RIGHT SIDE ...\n",
       "56    [PEDALCYCLIST STRUCK MOTOR VEHICLE LEFT SIDE S...\n",
       "58    [PEDALCYCLIST STRUCK PEDALCYCLIST FRONT END AT...\n",
       "61          [PEDALCYCLIST STRUCK PEDALCYCLIST REAR END]\n",
       "64                     [PEDALCYCLIST STRUCK PEDESTRIAN]\n",
       "66                 [PEDALCYCLIST STRUCK OBJECT IN ROAD]\n",
       "68       [PEDALCYCLIST RAN OFF ROAD - HIT FIXED OBJECT]\n",
       "69                    [PEDALCYCLIST OVERTURNED IN ROAD]\n",
       "Name: SDOT_COLDESC, dtype: object"
      ]
     },
     "execution_count": 84,
     "metadata": {
      "tags": []
     },
     "output_type": "execute_result"
    }
   ],
   "source": [
    "df.groupby('SDOT_COLCODE')['SDOT_COLDESC'].unique()"
   ]
  },
  {
   "cell_type": "code",
   "execution_count": 85,
   "metadata": {
    "colab": {},
    "colab_type": "code",
    "executionInfo": {
     "elapsed": 840,
     "status": "ok",
     "timestamp": 1598346042357,
     "user": {
      "displayName": "Rahul Sharma",
      "photoUrl": "",
      "userId": "12186756602691074388"
     },
     "user_tz": -330
    },
    "id": "frpW-5OSm3K0"
   },
   "outputs": [],
   "source": [
    "#No Missing values. can drop SDOT_COLDESC"
   ]
  },
  {
   "cell_type": "code",
   "execution_count": 87,
   "metadata": {
    "colab": {
     "base_uri": "https://localhost:8080/",
     "height": 119
    },
    "colab_type": "code",
    "executionInfo": {
     "elapsed": 1269,
     "status": "ok",
     "timestamp": 1598346094090,
     "user": {
      "displayName": "Rahul Sharma",
      "photoUrl": "",
      "userId": "12186756602691074388"
     },
     "user_tz": -330
    },
    "id": "mb7_D4Kcm3N1",
    "outputId": "394ca704-f4b4-4ed9-9596-ed0b944c75f8"
   },
   "outputs": [
    {
     "data": {
      "text/plain": [
       "0          NaN\n",
       "1    6354039.0\n",
       "2    4323031.0\n",
       "3          NaN\n",
       "4    4028032.0\n",
       "Name: SDOTCOLNUM, dtype: float64"
      ]
     },
     "execution_count": 87,
     "metadata": {
      "tags": []
     },
     "output_type": "execute_result"
    }
   ],
   "source": [
    "#Remove because no information available\n",
    "df['SDOTCOLNUM'].head()"
   ]
  },
  {
   "cell_type": "code",
   "execution_count": 137,
   "metadata": {
    "colab": {
     "base_uri": "https://localhost:8080/",
     "height": 204
    },
    "colab_type": "code",
    "executionInfo": {
     "elapsed": 19220,
     "status": "ok",
     "timestamp": 1598348070380,
     "user": {
      "displayName": "Rahul Sharma",
      "photoUrl": "",
      "userId": "12186756602691074388"
     },
     "user_tz": -330
    },
    "id": "GyhPdklKm3Ql",
    "outputId": "d8b435ff-13ad-49e1-e54d-19386fe669c2"
   },
   "outputs": [
    {
     "data": {
      "text/html": [
       "<div>\n",
       "<style scoped>\n",
       "    .dataframe tbody tr th:only-of-type {\n",
       "        vertical-align: middle;\n",
       "    }\n",
       "\n",
       "    .dataframe tbody tr th {\n",
       "        vertical-align: top;\n",
       "    }\n",
       "\n",
       "    .dataframe thead th {\n",
       "        text-align: right;\n",
       "    }\n",
       "</style>\n",
       "<table border=\"1\" class=\"dataframe\">\n",
       "  <thead>\n",
       "    <tr style=\"text-align: right;\">\n",
       "      <th></th>\n",
       "      <th>MonthOfYear</th>\n",
       "      <th>DayOfWeek</th>\n",
       "      <th>TimeOfDay</th>\n",
       "    </tr>\n",
       "  </thead>\n",
       "  <tbody>\n",
       "    <tr>\n",
       "      <th>0</th>\n",
       "      <td>3</td>\n",
       "      <td>2</td>\n",
       "      <td>14</td>\n",
       "    </tr>\n",
       "    <tr>\n",
       "      <th>1</th>\n",
       "      <td>12</td>\n",
       "      <td>2</td>\n",
       "      <td>18</td>\n",
       "    </tr>\n",
       "    <tr>\n",
       "      <th>2</th>\n",
       "      <td>11</td>\n",
       "      <td>3</td>\n",
       "      <td>10</td>\n",
       "    </tr>\n",
       "    <tr>\n",
       "      <th>3</th>\n",
       "      <td>3</td>\n",
       "      <td>4</td>\n",
       "      <td>9</td>\n",
       "    </tr>\n",
       "    <tr>\n",
       "      <th>4</th>\n",
       "      <td>1</td>\n",
       "      <td>2</td>\n",
       "      <td>8</td>\n",
       "    </tr>\n",
       "  </tbody>\n",
       "</table>\n",
       "</div>"
      ],
      "text/plain": [
       "   MonthOfYear  DayOfWeek  TimeOfDay\n",
       "0            3          2         14\n",
       "1           12          2         18\n",
       "2           11          3         10\n",
       "3            3          4          9\n",
       "4            1          2          8"
      ]
     },
     "execution_count": 137,
     "metadata": {
      "tags": []
     },
     "output_type": "execute_result"
    }
   ],
   "source": [
    "df['MonthOfYear'] = pd.to_datetime(df['INCDATE']).dt.month\n",
    "df['DayOfWeek'] = pd.to_datetime(df['INCDATE']).dt.weekday\n",
    "df['TimeOfDay'] = pd.to_datetime(df['INCDTTM']).dt.hour\n",
    "df[['MonthOfYear','DayOfWeek','TimeOfDay']].head()"
   ]
  },
  {
   "cell_type": "code",
   "execution_count": 89,
   "metadata": {
    "colab": {
     "base_uri": "https://localhost:8080/",
     "height": 714
    },
    "colab_type": "code",
    "executionInfo": {
     "elapsed": 1168,
     "status": "ok",
     "timestamp": 1598346153568,
     "user": {
      "displayName": "Rahul Sharma",
      "photoUrl": "",
      "userId": "12186756602691074388"
     },
     "user_tz": -330
    },
    "id": "YqiQ5m6QyaB5",
    "outputId": "82e173b0-496c-4278-ef9a-01a070b24dbc"
   },
   "outputs": [
    {
     "data": {
      "text/plain": [
       "['SEVERITYCODE',\n",
       " 'X',\n",
       " 'Y',\n",
       " 'OBJECTID',\n",
       " 'INCKEY',\n",
       " 'COLDETKEY',\n",
       " 'REPORTNO',\n",
       " 'STATUS',\n",
       " 'ADDRTYPE',\n",
       " 'INTKEY',\n",
       " 'LOCATION',\n",
       " 'EXCEPTRSNCODE',\n",
       " 'EXCEPTRSNDESC',\n",
       " 'SEVERITYCODE.1',\n",
       " 'SEVERITYDESC',\n",
       " 'COLLISIONTYPE',\n",
       " 'PERSONCOUNT',\n",
       " 'PEDCOUNT',\n",
       " 'PEDCYLCOUNT',\n",
       " 'VEHCOUNT',\n",
       " 'INCDATE',\n",
       " 'INCDTTM',\n",
       " 'JUNCTIONTYPE',\n",
       " 'SDOT_COLCODE',\n",
       " 'SDOT_COLDESC',\n",
       " 'INATTENTIONIND',\n",
       " 'UNDERINFL',\n",
       " 'WEATHER',\n",
       " 'ROADCOND',\n",
       " 'LIGHTCOND',\n",
       " 'PEDROWNOTGRNT',\n",
       " 'SDOTCOLNUM',\n",
       " 'SPEEDING',\n",
       " 'ST_COLCODE',\n",
       " 'ST_COLDESC',\n",
       " 'SEGLANEKEY',\n",
       " 'CROSSWALKKEY',\n",
       " 'HITPARKEDCAR',\n",
       " 'MonthOfYear',\n",
       " 'DayOfWeek',\n",
       " 'TimeOfDay']"
      ]
     },
     "execution_count": 89,
     "metadata": {
      "tags": []
     },
     "output_type": "execute_result"
    }
   ],
   "source": [
    "df.columns.to_list()"
   ]
  },
  {
   "cell_type": "code",
   "execution_count": 138,
   "metadata": {
    "colab": {},
    "colab_type": "code",
    "executionInfo": {
     "elapsed": 1197,
     "status": "ok",
     "timestamp": 1598348079826,
     "user": {
      "displayName": "Rahul Sharma",
      "photoUrl": "",
      "userId": "12186756602691074388"
     },
     "user_tz": -330
    },
    "id": "WstOj2J_0Cmh"
   },
   "outputs": [],
   "source": [
    "#UNDERINFL treatment\n",
    "df['UNDERINFL'].replace(to_replace=['N','Y'],value=['0','1'], inplace=True)"
   ]
  },
  {
   "cell_type": "code",
   "execution_count": 91,
   "metadata": {
    "colab": {
     "base_uri": "https://localhost:8080/",
     "height": 142
    },
    "colab_type": "code",
    "executionInfo": {
     "elapsed": 1142,
     "status": "ok",
     "timestamp": 1598346169304,
     "user": {
      "displayName": "Rahul Sharma",
      "photoUrl": "",
      "userId": "12186756602691074388"
     },
     "user_tz": -330
    },
    "id": "fSacf29EwdVD",
    "outputId": "d0eb992e-618d-489c-bcc7-2935b8fa3031"
   },
   "outputs": [
    {
     "data": {
      "text/html": [
       "<div>\n",
       "<style scoped>\n",
       "    .dataframe tbody tr th:only-of-type {\n",
       "        vertical-align: middle;\n",
       "    }\n",
       "\n",
       "    .dataframe tbody tr th {\n",
       "        vertical-align: top;\n",
       "    }\n",
       "\n",
       "    .dataframe thead th {\n",
       "        text-align: right;\n",
       "    }\n",
       "</style>\n",
       "<table border=\"1\" class=\"dataframe\">\n",
       "  <thead>\n",
       "    <tr style=\"text-align: right;\">\n",
       "      <th>UNDERINFL</th>\n",
       "      <th>0</th>\n",
       "      <th>1</th>\n",
       "    </tr>\n",
       "    <tr>\n",
       "      <th>SEVERITYCODE</th>\n",
       "      <th></th>\n",
       "      <th></th>\n",
       "    </tr>\n",
       "  </thead>\n",
       "  <tbody>\n",
       "    <tr>\n",
       "      <th>1</th>\n",
       "      <td>127071</td>\n",
       "      <td>5559</td>\n",
       "    </tr>\n",
       "    <tr>\n",
       "      <th>2</th>\n",
       "      <td>53597</td>\n",
       "      <td>3562</td>\n",
       "    </tr>\n",
       "  </tbody>\n",
       "</table>\n",
       "</div>"
      ],
      "text/plain": [
       "UNDERINFL          0     1\n",
       "SEVERITYCODE              \n",
       "1             127071  5559\n",
       "2              53597  3562"
      ]
     },
     "execution_count": 91,
     "metadata": {
      "tags": []
     },
     "output_type": "execute_result"
    }
   ],
   "source": [
    "pd.crosstab(df['SEVERITYCODE'],df['UNDERINFL'])"
   ]
  },
  {
   "cell_type": "code",
   "execution_count": 93,
   "metadata": {
    "colab": {
     "base_uri": "https://localhost:8080/",
     "height": 68
    },
    "colab_type": "code",
    "executionInfo": {
     "elapsed": 1220,
     "status": "ok",
     "timestamp": 1598346271541,
     "user": {
      "displayName": "Rahul Sharma",
      "photoUrl": "",
      "userId": "12186756602691074388"
     },
     "user_tz": -330
    },
    "id": "EBZEB4yw2xWJ",
    "outputId": "9d8bf90f-c86a-44b4-8b09-db9f6b37b649"
   },
   "outputs": [
    {
     "data": {
      "text/plain": [
       "1    3855\n",
       "2    1029\n",
       "Name: SEVERITYCODE, dtype: int64"
      ]
     },
     "execution_count": 93,
     "metadata": {
      "tags": []
     },
     "output_type": "execute_result"
    }
   ],
   "source": [
    "df[df['UNDERINFL'].isnull()]['SEVERITYCODE'].value_counts()"
   ]
  },
  {
   "cell_type": "code",
   "execution_count": 139,
   "metadata": {
    "colab": {},
    "colab_type": "code",
    "executionInfo": {
     "elapsed": 1547,
     "status": "ok",
     "timestamp": 1598348098508,
     "user": {
      "displayName": "Rahul Sharma",
      "photoUrl": "",
      "userId": "12186756602691074388"
     },
     "user_tz": -330
    },
    "id": "Z7c9eW903Zab"
   },
   "outputs": [],
   "source": [
    "#filling missing values with 0 in UNDERINFL\n",
    "df['UNDERINFL'].fillna(0, inplace=True)"
   ]
  },
  {
   "cell_type": "code",
   "execution_count": 140,
   "metadata": {
    "colab": {},
    "colab_type": "code",
    "executionInfo": {
     "elapsed": 931,
     "status": "ok",
     "timestamp": 1598348100074,
     "user": {
      "displayName": "Rahul Sharma",
      "photoUrl": "",
      "userId": "12186756602691074388"
     },
     "user_tz": -330
    },
    "id": "Xx2-IfoS38dQ"
   },
   "outputs": [],
   "source": [
    "df['UNDERINFL'].replace(0,'0', inplace=True)"
   ]
  },
  {
   "cell_type": "code",
   "execution_count": 141,
   "metadata": {
    "colab": {
     "base_uri": "https://localhost:8080/",
     "height": 142
    },
    "colab_type": "code",
    "executionInfo": {
     "elapsed": 1067,
     "status": "ok",
     "timestamp": 1598348101950,
     "user": {
      "displayName": "Rahul Sharma",
      "photoUrl": "",
      "userId": "12186756602691074388"
     },
     "user_tz": -330
    },
    "id": "csnar4oZ3syS",
    "outputId": "65da1bde-f260-4091-ec1a-79ec176c4ee6"
   },
   "outputs": [
    {
     "data": {
      "text/html": [
       "<div>\n",
       "<style scoped>\n",
       "    .dataframe tbody tr th:only-of-type {\n",
       "        vertical-align: middle;\n",
       "    }\n",
       "\n",
       "    .dataframe tbody tr th {\n",
       "        vertical-align: top;\n",
       "    }\n",
       "\n",
       "    .dataframe thead th {\n",
       "        text-align: right;\n",
       "    }\n",
       "</style>\n",
       "<table border=\"1\" class=\"dataframe\">\n",
       "  <thead>\n",
       "    <tr style=\"text-align: right;\">\n",
       "      <th>UNDERINFL</th>\n",
       "      <th>0</th>\n",
       "      <th>1</th>\n",
       "    </tr>\n",
       "    <tr>\n",
       "      <th>SEVERITYCODE</th>\n",
       "      <th></th>\n",
       "      <th></th>\n",
       "    </tr>\n",
       "  </thead>\n",
       "  <tbody>\n",
       "    <tr>\n",
       "      <th>1</th>\n",
       "      <td>130926</td>\n",
       "      <td>5559</td>\n",
       "    </tr>\n",
       "    <tr>\n",
       "      <th>2</th>\n",
       "      <td>54626</td>\n",
       "      <td>3562</td>\n",
       "    </tr>\n",
       "  </tbody>\n",
       "</table>\n",
       "</div>"
      ],
      "text/plain": [
       "UNDERINFL          0     1\n",
       "SEVERITYCODE              \n",
       "1             130926  5559\n",
       "2              54626  3562"
      ]
     },
     "execution_count": 141,
     "metadata": {
      "tags": []
     },
     "output_type": "execute_result"
    }
   ],
   "source": [
    "pd.crosstab(df['SEVERITYCODE'],df['UNDERINFL'])"
   ]
  },
  {
   "cell_type": "code",
   "execution_count": 99,
   "metadata": {
    "colab": {
     "base_uri": "https://localhost:8080/",
     "height": 649
    },
    "colab_type": "code",
    "executionInfo": {
     "elapsed": 1128,
     "status": "ok",
     "timestamp": 1598346540403,
     "user": {
      "displayName": "Rahul Sharma",
      "photoUrl": "",
      "userId": "12186756602691074388"
     },
     "user_tz": -330
    },
    "id": "rBMd0YCJ0CHE",
    "outputId": "f2ee08ac-e380-4dea-8a81-f6e8b56e2c7f"
   },
   "outputs": [
    {
     "data": {
      "text/html": [
       "<div>\n",
       "<style scoped>\n",
       "    .dataframe tbody tr th:only-of-type {\n",
       "        vertical-align: middle;\n",
       "    }\n",
       "\n",
       "    .dataframe tbody tr th {\n",
       "        vertical-align: top;\n",
       "    }\n",
       "\n",
       "    .dataframe thead th {\n",
       "        text-align: right;\n",
       "    }\n",
       "</style>\n",
       "<table border=\"1\" class=\"dataframe\">\n",
       "  <thead>\n",
       "    <tr style=\"text-align: right;\">\n",
       "      <th></th>\n",
       "      <th>SEVERITYCODE</th>\n",
       "      <th>X</th>\n",
       "      <th>Y</th>\n",
       "      <th>OBJECTID</th>\n",
       "      <th>INCKEY</th>\n",
       "      <th>COLDETKEY</th>\n",
       "      <th>REPORTNO</th>\n",
       "      <th>STATUS</th>\n",
       "      <th>ADDRTYPE</th>\n",
       "      <th>INTKEY</th>\n",
       "      <th>LOCATION</th>\n",
       "      <th>EXCEPTRSNCODE</th>\n",
       "      <th>EXCEPTRSNDESC</th>\n",
       "      <th>SEVERITYCODE.1</th>\n",
       "      <th>SEVERITYDESC</th>\n",
       "      <th>COLLISIONTYPE</th>\n",
       "      <th>PERSONCOUNT</th>\n",
       "      <th>PEDCOUNT</th>\n",
       "      <th>PEDCYLCOUNT</th>\n",
       "      <th>VEHCOUNT</th>\n",
       "      <th>INCDATE</th>\n",
       "      <th>INCDTTM</th>\n",
       "      <th>JUNCTIONTYPE</th>\n",
       "      <th>SDOT_COLCODE</th>\n",
       "      <th>SDOT_COLDESC</th>\n",
       "      <th>INATTENTIONIND</th>\n",
       "      <th>UNDERINFL</th>\n",
       "      <th>WEATHER</th>\n",
       "      <th>ROADCOND</th>\n",
       "      <th>LIGHTCOND</th>\n",
       "      <th>PEDROWNOTGRNT</th>\n",
       "      <th>SDOTCOLNUM</th>\n",
       "      <th>SPEEDING</th>\n",
       "      <th>ST_COLCODE</th>\n",
       "      <th>ST_COLDESC</th>\n",
       "      <th>SEGLANEKEY</th>\n",
       "      <th>CROSSWALKKEY</th>\n",
       "      <th>HITPARKEDCAR</th>\n",
       "      <th>MonthOfYear</th>\n",
       "      <th>DayOfWeek</th>\n",
       "      <th>TimeOfDay</th>\n",
       "    </tr>\n",
       "  </thead>\n",
       "  <tbody>\n",
       "    <tr>\n",
       "      <th>0</th>\n",
       "      <td>2</td>\n",
       "      <td>-122.323148</td>\n",
       "      <td>47.703140</td>\n",
       "      <td>1</td>\n",
       "      <td>1307</td>\n",
       "      <td>1307</td>\n",
       "      <td>3502005</td>\n",
       "      <td>Matched</td>\n",
       "      <td>Intersection</td>\n",
       "      <td>37475.0</td>\n",
       "      <td>5TH AVE NE AND NE 103RD ST</td>\n",
       "      <td></td>\n",
       "      <td>NaN</td>\n",
       "      <td>2</td>\n",
       "      <td>Injury Collision</td>\n",
       "      <td>Angles</td>\n",
       "      <td>2</td>\n",
       "      <td>0</td>\n",
       "      <td>0</td>\n",
       "      <td>2</td>\n",
       "      <td>2013/03/27 00:00:00+00</td>\n",
       "      <td>3/27/2013 2:54:00 PM</td>\n",
       "      <td>At Intersection (intersection related)</td>\n",
       "      <td>11</td>\n",
       "      <td>MOTOR VEHICLE STRUCK MOTOR VEHICLE, FRONT END ...</td>\n",
       "      <td>NaN</td>\n",
       "      <td>0</td>\n",
       "      <td>Overcast</td>\n",
       "      <td>Wet</td>\n",
       "      <td>Daylight</td>\n",
       "      <td>NaN</td>\n",
       "      <td>NaN</td>\n",
       "      <td>NaN</td>\n",
       "      <td>10</td>\n",
       "      <td>Entering at angle</td>\n",
       "      <td>0</td>\n",
       "      <td>0</td>\n",
       "      <td>N</td>\n",
       "      <td>3</td>\n",
       "      <td>2</td>\n",
       "      <td>14</td>\n",
       "    </tr>\n",
       "    <tr>\n",
       "      <th>1</th>\n",
       "      <td>1</td>\n",
       "      <td>-122.347294</td>\n",
       "      <td>47.647172</td>\n",
       "      <td>2</td>\n",
       "      <td>52200</td>\n",
       "      <td>52200</td>\n",
       "      <td>2607959</td>\n",
       "      <td>Matched</td>\n",
       "      <td>Block</td>\n",
       "      <td>NaN</td>\n",
       "      <td>AURORA BR BETWEEN RAYE ST AND BRIDGE WAY N</td>\n",
       "      <td>NaN</td>\n",
       "      <td>NaN</td>\n",
       "      <td>1</td>\n",
       "      <td>Property Damage Only Collision</td>\n",
       "      <td>Sideswipe</td>\n",
       "      <td>2</td>\n",
       "      <td>0</td>\n",
       "      <td>0</td>\n",
       "      <td>2</td>\n",
       "      <td>2006/12/20 00:00:00+00</td>\n",
       "      <td>12/20/2006 6:55:00 PM</td>\n",
       "      <td>Mid-Block (not related to intersection)</td>\n",
       "      <td>16</td>\n",
       "      <td>MOTOR VEHICLE STRUCK MOTOR VEHICLE, LEFT SIDE ...</td>\n",
       "      <td>NaN</td>\n",
       "      <td>0</td>\n",
       "      <td>Raining</td>\n",
       "      <td>Wet</td>\n",
       "      <td>Dark - Street Lights On</td>\n",
       "      <td>NaN</td>\n",
       "      <td>6354039.0</td>\n",
       "      <td>NaN</td>\n",
       "      <td>11</td>\n",
       "      <td>From same direction - both going straight - bo...</td>\n",
       "      <td>0</td>\n",
       "      <td>0</td>\n",
       "      <td>N</td>\n",
       "      <td>12</td>\n",
       "      <td>2</td>\n",
       "      <td>18</td>\n",
       "    </tr>\n",
       "    <tr>\n",
       "      <th>2</th>\n",
       "      <td>1</td>\n",
       "      <td>-122.334540</td>\n",
       "      <td>47.607871</td>\n",
       "      <td>3</td>\n",
       "      <td>26700</td>\n",
       "      <td>26700</td>\n",
       "      <td>1482393</td>\n",
       "      <td>Matched</td>\n",
       "      <td>Block</td>\n",
       "      <td>NaN</td>\n",
       "      <td>4TH AVE BETWEEN SENECA ST AND UNIVERSITY ST</td>\n",
       "      <td>NaN</td>\n",
       "      <td>NaN</td>\n",
       "      <td>1</td>\n",
       "      <td>Property Damage Only Collision</td>\n",
       "      <td>Parked Car</td>\n",
       "      <td>4</td>\n",
       "      <td>0</td>\n",
       "      <td>0</td>\n",
       "      <td>3</td>\n",
       "      <td>2004/11/18 00:00:00+00</td>\n",
       "      <td>11/18/2004 10:20:00 AM</td>\n",
       "      <td>Mid-Block (not related to intersection)</td>\n",
       "      <td>14</td>\n",
       "      <td>MOTOR VEHICLE STRUCK MOTOR VEHICLE, REAR END</td>\n",
       "      <td>NaN</td>\n",
       "      <td>0</td>\n",
       "      <td>Overcast</td>\n",
       "      <td>Dry</td>\n",
       "      <td>Daylight</td>\n",
       "      <td>NaN</td>\n",
       "      <td>4323031.0</td>\n",
       "      <td>NaN</td>\n",
       "      <td>32</td>\n",
       "      <td>One parked--one moving</td>\n",
       "      <td>0</td>\n",
       "      <td>0</td>\n",
       "      <td>N</td>\n",
       "      <td>11</td>\n",
       "      <td>3</td>\n",
       "      <td>10</td>\n",
       "    </tr>\n",
       "    <tr>\n",
       "      <th>3</th>\n",
       "      <td>1</td>\n",
       "      <td>-122.334803</td>\n",
       "      <td>47.604803</td>\n",
       "      <td>4</td>\n",
       "      <td>1144</td>\n",
       "      <td>1144</td>\n",
       "      <td>3503937</td>\n",
       "      <td>Matched</td>\n",
       "      <td>Block</td>\n",
       "      <td>NaN</td>\n",
       "      <td>2ND AVE BETWEEN MARION ST AND MADISON ST</td>\n",
       "      <td></td>\n",
       "      <td>NaN</td>\n",
       "      <td>1</td>\n",
       "      <td>Property Damage Only Collision</td>\n",
       "      <td>Other</td>\n",
       "      <td>3</td>\n",
       "      <td>0</td>\n",
       "      <td>0</td>\n",
       "      <td>3</td>\n",
       "      <td>2013/03/29 00:00:00+00</td>\n",
       "      <td>3/29/2013 9:26:00 AM</td>\n",
       "      <td>Mid-Block (not related to intersection)</td>\n",
       "      <td>11</td>\n",
       "      <td>MOTOR VEHICLE STRUCK MOTOR VEHICLE, FRONT END ...</td>\n",
       "      <td>NaN</td>\n",
       "      <td>0</td>\n",
       "      <td>Clear</td>\n",
       "      <td>Dry</td>\n",
       "      <td>Daylight</td>\n",
       "      <td>NaN</td>\n",
       "      <td>NaN</td>\n",
       "      <td>NaN</td>\n",
       "      <td>23</td>\n",
       "      <td>From same direction - all others</td>\n",
       "      <td>0</td>\n",
       "      <td>0</td>\n",
       "      <td>N</td>\n",
       "      <td>3</td>\n",
       "      <td>4</td>\n",
       "      <td>9</td>\n",
       "    </tr>\n",
       "    <tr>\n",
       "      <th>4</th>\n",
       "      <td>2</td>\n",
       "      <td>-122.306426</td>\n",
       "      <td>47.545739</td>\n",
       "      <td>5</td>\n",
       "      <td>17700</td>\n",
       "      <td>17700</td>\n",
       "      <td>1807429</td>\n",
       "      <td>Matched</td>\n",
       "      <td>Intersection</td>\n",
       "      <td>34387.0</td>\n",
       "      <td>SWIFT AVE S AND SWIFT AV OFF RP</td>\n",
       "      <td>NaN</td>\n",
       "      <td>NaN</td>\n",
       "      <td>2</td>\n",
       "      <td>Injury Collision</td>\n",
       "      <td>Angles</td>\n",
       "      <td>2</td>\n",
       "      <td>0</td>\n",
       "      <td>0</td>\n",
       "      <td>2</td>\n",
       "      <td>2004/01/28 00:00:00+00</td>\n",
       "      <td>1/28/2004 8:04:00 AM</td>\n",
       "      <td>At Intersection (intersection related)</td>\n",
       "      <td>11</td>\n",
       "      <td>MOTOR VEHICLE STRUCK MOTOR VEHICLE, FRONT END ...</td>\n",
       "      <td>NaN</td>\n",
       "      <td>0</td>\n",
       "      <td>Raining</td>\n",
       "      <td>Wet</td>\n",
       "      <td>Daylight</td>\n",
       "      <td>NaN</td>\n",
       "      <td>4028032.0</td>\n",
       "      <td>NaN</td>\n",
       "      <td>10</td>\n",
       "      <td>Entering at angle</td>\n",
       "      <td>0</td>\n",
       "      <td>0</td>\n",
       "      <td>N</td>\n",
       "      <td>1</td>\n",
       "      <td>2</td>\n",
       "      <td>8</td>\n",
       "    </tr>\n",
       "  </tbody>\n",
       "</table>\n",
       "</div>"
      ],
      "text/plain": [
       "   SEVERITYCODE           X          Y  ...  MonthOfYear  DayOfWeek  TimeOfDay\n",
       "0             2 -122.323148  47.703140  ...            3          2         14\n",
       "1             1 -122.347294  47.647172  ...           12          2         18\n",
       "2             1 -122.334540  47.607871  ...           11          3         10\n",
       "3             1 -122.334803  47.604803  ...            3          4          9\n",
       "4             2 -122.306426  47.545739  ...            1          2          8\n",
       "\n",
       "[5 rows x 41 columns]"
      ]
     },
     "execution_count": 99,
     "metadata": {
      "tags": []
     },
     "output_type": "execute_result"
    }
   ],
   "source": [
    "df[df['SPEEDING']!='Y'].head()"
   ]
  },
  {
   "cell_type": "code",
   "execution_count": 100,
   "metadata": {
    "colab": {
     "base_uri": "https://localhost:8080/",
     "height": 34
    },
    "colab_type": "code",
    "executionInfo": {
     "elapsed": 1435,
     "status": "ok",
     "timestamp": 1598346566789,
     "user": {
      "displayName": "Rahul Sharma",
      "photoUrl": "",
      "userId": "12186756602691074388"
     },
     "user_tz": -330
    },
    "id": "Ivt0SxFh1jDV",
    "outputId": "b3aabb4f-26cc-4f0e-a1ea-32afcd76acbe"
   },
   "outputs": [
    {
     "data": {
      "text/plain": [
       "0.9520580666039975"
      ]
     },
     "execution_count": 100,
     "metadata": {
      "tags": []
     },
     "output_type": "execute_result"
    }
   ],
   "source": [
    "df['SPEEDING'].isnull().sum()/df.shape[0]\n",
    "#very high missing percentage: remove column"
   ]
  },
  {
   "cell_type": "code",
   "execution_count": 106,
   "metadata": {
    "colab": {
     "base_uri": "https://localhost:8080/",
     "height": 119
    },
    "colab_type": "code",
    "executionInfo": {
     "elapsed": 1343,
     "status": "ok",
     "timestamp": 1598346735751,
     "user": {
      "displayName": "Rahul Sharma",
      "photoUrl": "",
      "userId": "12186756602691074388"
     },
     "user_tz": -330
    },
    "id": "NaazPokBvvGe",
    "outputId": "c0b707a8-fe53-4016-806f-b195bc8d2ab2"
   },
   "outputs": [
    {
     "data": {
      "text/plain": [
       "0                     5TH AVE NE AND NE 103RD ST\n",
       "1     AURORA BR BETWEEN RAYE ST AND BRIDGE WAY N\n",
       "2    4TH AVE BETWEEN SENECA ST AND UNIVERSITY ST\n",
       "3       2ND AVE BETWEEN MARION ST AND MADISON ST\n",
       "4                SWIFT AVE S AND SWIFT AV OFF RP\n",
       "Name: LOCATION, dtype: object"
      ]
     },
     "execution_count": 106,
     "metadata": {
      "tags": []
     },
     "output_type": "execute_result"
    }
   ],
   "source": [
    "#location has over 20000 categories. No significant information gain, can remove.\n",
    "df['LOCATION'].head()"
   ]
  },
  {
   "cell_type": "code",
   "execution_count": 142,
   "metadata": {
    "colab": {
     "base_uri": "https://localhost:8080/",
     "height": 34
    },
    "colab_type": "code",
    "executionInfo": {
     "elapsed": 1657,
     "status": "ok",
     "timestamp": 1598348123208,
     "user": {
      "displayName": "Rahul Sharma",
      "photoUrl": "",
      "userId": "12186756602691074388"
     },
     "user_tz": -330
    },
    "id": "vpRXreIV-LdP",
    "outputId": "85adcc8d-8fc8-4e81-9d92-3f03b0683fc7"
   },
   "outputs": [
    {
     "data": {
      "text/plain": [
       "dtype('float64')"
      ]
     },
     "execution_count": 142,
     "metadata": {
      "tags": []
     },
     "output_type": "execute_result"
    }
   ],
   "source": [
    "df['X'].dtype"
   ]
  },
  {
   "cell_type": "code",
   "execution_count": 143,
   "metadata": {
    "colab": {
     "base_uri": "https://localhost:8080/",
     "height": 68
    },
    "colab_type": "code",
    "executionInfo": {
     "elapsed": 1147,
     "status": "ok",
     "timestamp": 1598348148852,
     "user": {
      "displayName": "Rahul Sharma",
      "photoUrl": "",
      "userId": "12186756602691074388"
     },
     "user_tz": -330
    },
    "id": "k1AJDLAtvvOy",
    "outputId": "46fdc020-d62e-496b-bc56-61c81f3dbda0"
   },
   "outputs": [
    {
     "data": {
      "text/plain": [
       "X    0\n",
       "Y    0\n",
       "dtype: int64"
      ]
     },
     "execution_count": 143,
     "metadata": {
      "tags": []
     },
     "output_type": "execute_result"
    }
   ],
   "source": [
    "#Missing Value treatment for X,Y\n",
    "df.X.fillna(df.X.mean(), inplace=True)\n",
    "df.Y.fillna(df.Y.mean(),inplace=True)\n",
    "df[['X','Y']].isnull().sum()"
   ]
  },
  {
   "cell_type": "code",
   "execution_count": 144,
   "metadata": {
    "colab": {
     "base_uri": "https://localhost:8080/",
     "height": 34
    },
    "colab_type": "code",
    "executionInfo": {
     "elapsed": 1104,
     "status": "ok",
     "timestamp": 1598348159852,
     "user": {
      "displayName": "Rahul Sharma",
      "photoUrl": "",
      "userId": "12186756602691074388"
     },
     "user_tz": -330
    },
    "id": "SUdjZdvC-V5X",
    "outputId": "ec2d9de0-2f70-4378-d9d8-3daf0beadda2"
   },
   "outputs": [
    {
     "data": {
      "text/plain": [
       "dtype('float64')"
      ]
     },
     "execution_count": 144,
     "metadata": {
      "tags": []
     },
     "output_type": "execute_result"
    }
   ],
   "source": [
    "df['X'].dtype"
   ]
  },
  {
   "cell_type": "code",
   "execution_count": 109,
   "metadata": {
    "colab": {
     "base_uri": "https://localhost:8080/",
     "height": 170
    },
    "colab_type": "code",
    "executionInfo": {
     "elapsed": 1236,
     "status": "ok",
     "timestamp": 1598346833181,
     "user": {
      "displayName": "Rahul Sharma",
      "photoUrl": "",
      "userId": "12186756602691074388"
     },
     "user_tz": -330
    },
    "id": "CoIbdjCfMpKf",
    "outputId": "5d4ecc5d-0c8d-4f66-9573-057e2c2e1ed3"
   },
   "outputs": [
    {
     "data": {
      "text/plain": [
       "ADDRTYPE         1926\n",
       "COLLISIONTYPE    4904\n",
       "JUNCTIONTYPE     6329\n",
       "UNDERINFL           0\n",
       "WEATHER          5081\n",
       "ROADCOND         5012\n",
       "LIGHTCOND        5170\n",
       "ST_COLCODE          0\n",
       "dtype: int64"
      ]
     },
     "execution_count": 109,
     "metadata": {
      "tags": []
     },
     "output_type": "execute_result"
    }
   ],
   "source": [
    "df[['ADDRTYPE','COLLISIONTYPE','JUNCTIONTYPE','UNDERINFL','WEATHER','ROADCOND','LIGHTCOND','ST_COLCODE']].isnull().sum()"
   ]
  },
  {
   "cell_type": "code",
   "execution_count": 110,
   "metadata": {
    "colab": {
     "base_uri": "https://localhost:8080/",
     "height": 1000
    },
    "colab_type": "code",
    "executionInfo": {
     "elapsed": 1310,
     "status": "ok",
     "timestamp": 1598346885970,
     "user": {
      "displayName": "Rahul Sharma",
      "photoUrl": "",
      "userId": "12186756602691074388"
     },
     "user_tz": -330
    },
    "id": "pN30XI3XMpQM",
    "outputId": "83bf4f80-a84e-4368-b7a2-4c7d5c91aa2f"
   },
   "outputs": [
    {
     "name": "stdout",
     "output_type": "stream",
     "text": [
      "Block           126926\n",
      "Intersection     65070\n",
      "Alley              751\n",
      "Name: ADDRTYPE, dtype: int64\n",
      "null value count ADDRTYPE    1926\n",
      "dtype: int64\n",
      "Parked Car    47987\n",
      "Angles        34674\n",
      "Rear Ended    34090\n",
      "Other         23703\n",
      "Sideswipe     18609\n",
      "Left Turn     13703\n",
      "Pedestrian     6608\n",
      "Cycles         5415\n",
      "Right Turn     2956\n",
      "Head On        2024\n",
      "Name: COLLISIONTYPE, dtype: int64\n",
      "null value count COLLISIONTYPE    4904\n",
      "dtype: int64\n",
      "Mid-Block (not related to intersection)              89800\n",
      "At Intersection (intersection related)               62810\n",
      "Mid-Block (but intersection related)                 22790\n",
      "Driveway Junction                                    10671\n",
      "At Intersection (but not related to intersection)     2098\n",
      "Ramp Junction                                          166\n",
      "Unknown                                                  9\n",
      "Name: JUNCTIONTYPE, dtype: int64\n",
      "null value count JUNCTIONTYPE    6329\n",
      "dtype: int64\n",
      "Clear                       111135\n",
      "Raining                      33145\n",
      "Overcast                     27714\n",
      "Unknown                      15091\n",
      "Snowing                        907\n",
      "Other                          832\n",
      "Fog/Smog/Smoke                 569\n",
      "Sleet/Hail/Freezing Rain       113\n",
      "Blowing Sand/Dirt               56\n",
      "Severe Crosswind                25\n",
      "Partly Cloudy                    5\n",
      "Name: WEATHER, dtype: int64\n",
      "null value count WEATHER    5081\n",
      "dtype: int64\n",
      "Dry               124510\n",
      "Wet                47474\n",
      "Unknown            15078\n",
      "Ice                 1209\n",
      "Snow/Slush          1004\n",
      "Other                132\n",
      "Standing Water       115\n",
      "Sand/Mud/Dirt         75\n",
      "Oil                   64\n",
      "Name: ROADCOND, dtype: int64\n",
      "null value count ROADCOND    5012\n",
      "dtype: int64\n",
      "Daylight                    116137\n",
      "Dark - Street Lights On      48507\n",
      "Unknown                      13473\n",
      "Dusk                          5902\n",
      "Dawn                          2502\n",
      "Dark - No Street Lights       1537\n",
      "Dark - Street Lights Off      1199\n",
      "Other                          235\n",
      "Dark - Unknown Lighting         11\n",
      "Name: LIGHTCOND, dtype: int64\n",
      "null value count LIGHTCOND    5170\n",
      "dtype: int64\n"
     ]
    }
   ],
   "source": [
    "for col in ['ADDRTYPE','COLLISIONTYPE','JUNCTIONTYPE','WEATHER','ROADCOND','LIGHTCOND']:\n",
    "  print(df[col].value_counts())\n",
    "  print('null value count', df[[col]].isnull().sum())"
   ]
  },
  {
   "cell_type": "code",
   "execution_count": 145,
   "metadata": {
    "colab": {
     "base_uri": "https://localhost:8080/",
     "height": 221
    },
    "colab_type": "code",
    "executionInfo": {
     "elapsed": 1267,
     "status": "ok",
     "timestamp": 1598348192265,
     "user": {
      "displayName": "Rahul Sharma",
      "photoUrl": "",
      "userId": "12186756602691074388"
     },
     "user_tz": -330
    },
    "id": "fTWjXx58MpNV",
    "outputId": "ff7f758c-7d7f-4f16-fef0-70a47678909a"
   },
   "outputs": [
    {
     "name": "stdout",
     "output_type": "stream",
     "text": [
      "null value count ADDRTYPE    0\n",
      "dtype: int64\n",
      "null value count COLLISIONTYPE    0\n",
      "dtype: int64\n",
      "null value count JUNCTIONTYPE    0\n",
      "dtype: int64\n",
      "null value count WEATHER    0\n",
      "dtype: int64\n",
      "null value count ROADCOND    0\n",
      "dtype: int64\n",
      "null value count LIGHTCOND    0\n",
      "dtype: int64\n"
     ]
    }
   ],
   "source": [
    "#updating missing values as modes of the above respoective variables\n",
    "for col in ['ADDRTYPE','COLLISIONTYPE','JUNCTIONTYPE','WEATHER','ROADCOND','LIGHTCOND']:\n",
    "  df[col].fillna(df[col].value_counts().index[0], inplace=True)\n",
    "  print('null value count', df[[col]].isnull().sum())"
   ]
  },
  {
   "cell_type": "code",
   "execution_count": 146,
   "metadata": {
    "colab": {
     "base_uri": "https://localhost:8080/",
     "height": 68
    },
    "colab_type": "code",
    "executionInfo": {
     "elapsed": 1277,
     "status": "ok",
     "timestamp": 1598348196668,
     "user": {
      "displayName": "Rahul Sharma",
      "photoUrl": "",
      "userId": "12186756602691074388"
     },
     "user_tz": -330
    },
    "id": "IdUMHEy0vvJ1",
    "outputId": "95afb683-916e-4752-9e71-dc9f0632b6e7"
   },
   "outputs": [
    {
     "data": {
      "text/plain": [
       "N    187457\n",
       "Y      7216\n",
       "Name: HITPARKEDCAR, dtype: int64"
      ]
     },
     "execution_count": 146,
     "metadata": {
      "tags": []
     },
     "output_type": "execute_result"
    }
   ],
   "source": [
    "df['HITPARKEDCAR'].value_counts()"
   ]
  },
  {
   "cell_type": "code",
   "execution_count": 114,
   "metadata": {
    "colab": {
     "base_uri": "https://localhost:8080/",
     "height": 34
    },
    "colab_type": "code",
    "executionInfo": {
     "elapsed": 1372,
     "status": "ok",
     "timestamp": 1598347313858,
     "user": {
      "displayName": "Rahul Sharma",
      "photoUrl": "",
      "userId": "12186756602691074388"
     },
     "user_tz": -330
    },
    "id": "I4yz4lhu7Ek2",
    "outputId": "cd27bbec-ac4e-465a-fff2-cc4059c62ac7"
   },
   "outputs": [
    {
     "data": {
      "text/plain": [
       "0"
      ]
     },
     "execution_count": 114,
     "metadata": {
      "tags": []
     },
     "output_type": "execute_result"
    }
   ],
   "source": [
    "df['HITPARKEDCAR'].isnull().sum()"
   ]
  },
  {
   "cell_type": "code",
   "execution_count": 113,
   "metadata": {
    "colab": {
     "base_uri": "https://localhost:8080/",
     "height": 68
    },
    "colab_type": "code",
    "executionInfo": {
     "elapsed": 1249,
     "status": "ok",
     "timestamp": 1598347293528,
     "user": {
      "displayName": "Rahul Sharma",
      "photoUrl": "",
      "userId": "12186756602691074388"
     },
     "user_tz": -330
    },
    "id": "rx2kZIJc62hk",
    "outputId": "7bc106ef-8ca7-4ac2-b957-ee9cb81da42a"
   },
   "outputs": [
    {
     "data": {
      "text/plain": [
       "Matched      189786\n",
       "Unmatched      4887\n",
       "Name: STATUS, dtype: int64"
      ]
     },
     "execution_count": 113,
     "metadata": {
      "tags": []
     },
     "output_type": "execute_result"
    }
   ],
   "source": [
    "df['STATUS'].value_counts()"
   ]
  },
  {
   "cell_type": "code",
   "execution_count": 115,
   "metadata": {
    "colab": {
     "base_uri": "https://localhost:8080/",
     "height": 34
    },
    "colab_type": "code",
    "executionInfo": {
     "elapsed": 1340,
     "status": "ok",
     "timestamp": 1598347334877,
     "user": {
      "displayName": "Rahul Sharma",
      "photoUrl": "",
      "userId": "12186756602691074388"
     },
     "user_tz": -330
    },
    "id": "FQlDtCU562kR",
    "outputId": "594f16b3-ca7a-42c4-db2c-ebdbb71fd27a"
   },
   "outputs": [
    {
     "data": {
      "text/plain": [
       "0"
      ]
     },
     "execution_count": 115,
     "metadata": {
      "tags": []
     },
     "output_type": "execute_result"
    }
   ],
   "source": [
    "df['STATUS'].isnull().sum()"
   ]
  },
  {
   "cell_type": "markdown",
   "metadata": {
    "colab_type": "text",
    "id": "Sp4zWFJ97i06"
   },
   "source": [
    "###Feature Selection and creating Select Column dataset"
   ]
  },
  {
   "cell_type": "code",
   "execution_count": 147,
   "metadata": {
    "colab": {},
    "colab_type": "code",
    "executionInfo": {
     "elapsed": 1188,
     "status": "ok",
     "timestamp": 1598348203754,
     "user": {
      "displayName": "Rahul Sharma",
      "photoUrl": "",
      "userId": "12186756602691074388"
     },
     "user_tz": -330
    },
    "id": "WYcKOuNC62r3"
   },
   "outputs": [],
   "source": [
    "dfs = df[['SEVERITYCODE','X','Y','STATUS','ADDRTYPE','COLLISIONTYPE','PERSONCOUNT','PEDCOUNT','PEDCYLCOUNT','VEHCOUNT','JUNCTIONTYPE','SDOT_COLCODE','UNDERINFL','WEATHER','ROADCOND','LIGHTCOND','ST_COLCODE','HITPARKEDCAR','MonthOfYear','DayOfWeek','TimeOfDay']]"
   ]
  },
  {
   "cell_type": "code",
   "execution_count": 148,
   "metadata": {
    "colab": {
     "base_uri": "https://localhost:8080/",
     "height": 34
    },
    "colab_type": "code",
    "executionInfo": {
     "elapsed": 1148,
     "status": "ok",
     "timestamp": 1598348207121,
     "user": {
      "displayName": "Rahul Sharma",
      "photoUrl": "",
      "userId": "12186756602691074388"
     },
     "user_tz": -330
    },
    "id": "ajdTG56P62uo",
    "outputId": "27b1db6d-5b43-4ce6-8599-4e91774677e2"
   },
   "outputs": [
    {
     "data": {
      "text/plain": [
       "(194673, 21)"
      ]
     },
     "execution_count": 148,
     "metadata": {
      "tags": []
     },
     "output_type": "execute_result"
    }
   ],
   "source": [
    "dfs.shape"
   ]
  },
  {
   "cell_type": "code",
   "execution_count": 149,
   "metadata": {
    "colab": {
     "base_uri": "https://localhost:8080/",
     "height": 391
    },
    "colab_type": "code",
    "executionInfo": {
     "elapsed": 1251,
     "status": "ok",
     "timestamp": 1598348210342,
     "user": {
      "displayName": "Rahul Sharma",
      "photoUrl": "",
      "userId": "12186756602691074388"
     },
     "user_tz": -330
    },
    "id": "POpsE0kh79Jr",
    "outputId": "1e3bacb3-fb8e-4df6-a002-40a62957852e"
   },
   "outputs": [
    {
     "data": {
      "text/plain": [
       "SEVERITYCODE     0\n",
       "X                0\n",
       "Y                0\n",
       "STATUS           0\n",
       "ADDRTYPE         0\n",
       "COLLISIONTYPE    0\n",
       "PERSONCOUNT      0\n",
       "PEDCOUNT         0\n",
       "PEDCYLCOUNT      0\n",
       "VEHCOUNT         0\n",
       "JUNCTIONTYPE     0\n",
       "SDOT_COLCODE     0\n",
       "UNDERINFL        0\n",
       "WEATHER          0\n",
       "ROADCOND         0\n",
       "LIGHTCOND        0\n",
       "ST_COLCODE       0\n",
       "HITPARKEDCAR     0\n",
       "MonthOfYear      0\n",
       "DayOfWeek        0\n",
       "TimeOfDay        0\n",
       "dtype: int64"
      ]
     },
     "execution_count": 149,
     "metadata": {
      "tags": []
     },
     "output_type": "execute_result"
    }
   ],
   "source": [
    "dfs.isnull().sum()"
   ]
  },
  {
   "cell_type": "code",
   "execution_count": 150,
   "metadata": {
    "colab": {
     "base_uri": "https://localhost:8080/",
     "height": 391
    },
    "colab_type": "code",
    "executionInfo": {
     "elapsed": 1257,
     "status": "ok",
     "timestamp": 1598348215815,
     "user": {
      "displayName": "Rahul Sharma",
      "photoUrl": "",
      "userId": "12186756602691074388"
     },
     "user_tz": -330
    },
    "id": "-Vw38W5U79WV",
    "outputId": "acb9bd2c-2c45-4d81-a474-e376731595cb"
   },
   "outputs": [
    {
     "data": {
      "text/plain": [
       "SEVERITYCODE       int64\n",
       "X                float64\n",
       "Y                float64\n",
       "STATUS            object\n",
       "ADDRTYPE          object\n",
       "COLLISIONTYPE     object\n",
       "PERSONCOUNT        int64\n",
       "PEDCOUNT           int64\n",
       "PEDCYLCOUNT        int64\n",
       "VEHCOUNT           int64\n",
       "JUNCTIONTYPE      object\n",
       "SDOT_COLCODE       int64\n",
       "UNDERINFL         object\n",
       "WEATHER           object\n",
       "ROADCOND          object\n",
       "LIGHTCOND         object\n",
       "ST_COLCODE        object\n",
       "HITPARKEDCAR      object\n",
       "MonthOfYear        int64\n",
       "DayOfWeek          int64\n",
       "TimeOfDay          int64\n",
       "dtype: object"
      ]
     },
     "execution_count": 150,
     "metadata": {
      "tags": []
     },
     "output_type": "execute_result"
    }
   ],
   "source": [
    "dfs.dtypes"
   ]
  },
  {
   "cell_type": "code",
   "execution_count": 151,
   "metadata": {
    "colab": {},
    "colab_type": "code",
    "executionInfo": {
     "elapsed": 1285,
     "status": "ok",
     "timestamp": 1598348415737,
     "user": {
      "displayName": "Rahul Sharma",
      "photoUrl": "",
      "userId": "12186756602691074388"
     },
     "user_tz": -330
    },
    "id": "GyKHguV-79bL"
   },
   "outputs": [],
   "source": [
    "#Perform encoding on Categorical variables"
   ]
  },
  {
   "cell_type": "code",
   "execution_count": 153,
   "metadata": {
    "colab": {
     "base_uri": "https://localhost:8080/",
     "height": 68
    },
    "colab_type": "code",
    "executionInfo": {
     "elapsed": 1502,
     "status": "ok",
     "timestamp": 1598348454918,
     "user": {
      "displayName": "Rahul Sharma",
      "photoUrl": "",
      "userId": "12186756602691074388"
     },
     "user_tz": -330
    },
    "id": "80giwmXv79ZK",
    "outputId": "37211ca9-76d7-449c-d5b1-a6f3b44297b9"
   },
   "outputs": [
    {
     "data": {
      "text/plain": [
       "Index(['STATUS', 'ADDRTYPE', 'COLLISIONTYPE', 'JUNCTIONTYPE', 'UNDERINFL',\n",
       "       'WEATHER', 'ROADCOND', 'LIGHTCOND', 'ST_COLCODE', 'HITPARKEDCAR'],\n",
       "      dtype='object')"
      ]
     },
     "execution_count": 153,
     "metadata": {
      "tags": []
     },
     "output_type": "execute_result"
    }
   ],
   "source": [
    "dfs.select_dtypes(include='object').columns"
   ]
  },
  {
   "cell_type": "code",
   "execution_count": 154,
   "metadata": {
    "colab": {
     "base_uri": "https://localhost:8080/",
     "height": 68
    },
    "colab_type": "code",
    "executionInfo": {
     "elapsed": 1162,
     "status": "ok",
     "timestamp": 1598348482920,
     "user": {
      "displayName": "Rahul Sharma",
      "photoUrl": "",
      "userId": "12186756602691074388"
     },
     "user_tz": -330
    },
    "id": "FGXS0bgq79T7",
    "outputId": "c99c1b7a-1553-4af7-838d-10ffe21f5fa0"
   },
   "outputs": [
    {
     "data": {
      "text/plain": [
       "Index(['SEVERITYCODE', 'X', 'Y', 'PERSONCOUNT', 'PEDCOUNT', 'PEDCYLCOUNT',\n",
       "       'VEHCOUNT', 'SDOT_COLCODE', 'MonthOfYear', 'DayOfWeek', 'TimeOfDay'],\n",
       "      dtype='object')"
      ]
     },
     "execution_count": 154,
     "metadata": {
      "tags": []
     },
     "output_type": "execute_result"
    }
   ],
   "source": [
    "dfs.select_dtypes(include='number').columns"
   ]
  },
  {
   "cell_type": "markdown",
   "metadata": {
    "colab_type": "text",
    "id": "GvokYX7xA-Pt"
   },
   "source": [
    "### information about variables to create model"
   ]
  },
  {
   "cell_type": "code",
   "execution_count": null,
   "metadata": {
    "colab": {},
    "colab_type": "code",
    "id": "5CbKQlxv79Rd"
   },
   "outputs": [],
   "source": [
    "#From these important Features, some of the features are post facto and not related to "
   ]
  },
  {
   "cell_type": "code",
   "execution_count": null,
   "metadata": {
    "colab": {},
    "colab_type": "code",
    "id": "quT6kfNi79O9"
   },
   "outputs": [],
   "source": []
  },
  {
   "cell_type": "code",
   "execution_count": null,
   "metadata": {
    "colab": {},
    "colab_type": "code",
    "id": "MhcSWPwI79NH"
   },
   "outputs": [],
   "source": []
  },
  {
   "cell_type": "code",
   "execution_count": null,
   "metadata": {
    "colab": {},
    "colab_type": "code",
    "id": "PcC-TfEuG0qg"
   },
   "outputs": [],
   "source": [
    "dfs = df.sample(frac=0.1, random_state=111)\n",
    "dfs.shape"
   ]
  },
  {
   "cell_type": "code",
   "execution_count": null,
   "metadata": {
    "colab": {},
    "colab_type": "code",
    "id": "D6nfzb61G0qi"
   },
   "outputs": [],
   "source": [
    "fig = plt.figure(figsize=(20,20))\n",
    "\n",
    "plt.scatter(dfs[])\n",
    "\n",
    "plt.show()"
   ]
  },
  {
   "cell_type": "code",
   "execution_count": null,
   "metadata": {
    "colab": {},
    "colab_type": "code",
    "id": "4pzi6g83G0ql"
   },
   "outputs": [],
   "source": []
  },
  {
   "cell_type": "code",
   "execution_count": null,
   "metadata": {
    "colab": {},
    "colab_type": "code",
    "id": "YlFZjQGLG0qm"
   },
   "outputs": [],
   "source": [
    "dfs.hist(figsize=(20,20))\n",
    "plt.show()"
   ]
  },
  {
   "cell_type": "code",
   "execution_count": null,
   "metadata": {
    "colab": {},
    "colab_type": "code",
    "id": "aI1k4qHNG0qq"
   },
   "outputs": [],
   "source": [
    "cor = dfs.corr()\n",
    "plt.figure(figsize=(12,8))\n",
    "sns.heatmap(cor)\n",
    "plt.show()"
   ]
  },
  {
   "cell_type": "code",
   "execution_count": null,
   "metadata": {
    "colab": {},
    "colab_type": "code",
    "id": "UsDfQSl-G0qs"
   },
   "outputs": [],
   "source": [
    "df['SEVERITYCODE'].value_counts()"
   ]
  },
  {
   "cell_type": "code",
   "execution_count": null,
   "metadata": {
    "colab": {},
    "colab_type": "code",
    "id": "XKaqY9vyG0qu"
   },
   "outputs": [],
   "source": [
    "df['X'].value_counts()"
   ]
  },
  {
   "cell_type": "code",
   "execution_count": null,
   "metadata": {
    "colab": {},
    "colab_type": "code",
    "id": "OqPcxsLrG0qw"
   },
   "outputs": [],
   "source": []
  },
  {
   "cell_type": "code",
   "execution_count": null,
   "metadata": {
    "colab": {},
    "colab_type": "code",
    "id": "LXpxIVFLG0qx"
   },
   "outputs": [],
   "source": [
    "sns.scatterplot(dfs['X'],dfs['Y'],hue=dfs['SEVERITYCODE'])\n",
    "plt.show()"
   ]
  },
  {
   "cell_type": "code",
   "execution_count": null,
   "metadata": {
    "colab": {},
    "colab_type": "code",
    "id": "Z8z5WDyRG0qz"
   },
   "outputs": [],
   "source": [
    "df['X'].fillna(df['X'].mean(), inplace=True)\n",
    "df['Y'].fillna(df['Y'].mean(), inplace=True)\n"
   ]
  },
  {
   "cell_type": "code",
   "execution_count": null,
   "metadata": {
    "colab": {},
    "colab_type": "code",
    "id": "TjldCWx8G0q1"
   },
   "outputs": [],
   "source": [
    "keep = ['']\n"
   ]
  }
 ],
 "metadata": {
  "colab": {
   "collapsed_sections": [],
   "name": "CapStone_Project_IBM_DS_Course_9 (1).ipynb",
   "provenance": [],
   "toc_visible": true
  },
  "kernelspec": {
   "display_name": "Python 3",
   "language": "python",
   "name": "python3"
  },
  "language_info": {
   "codemirror_mode": {
    "name": "ipython",
    "version": 3
   },
   "file_extension": ".py",
   "mimetype": "text/x-python",
   "name": "python",
   "nbconvert_exporter": "python",
   "pygments_lexer": "ipython3",
   "version": "3.7.3"
  }
 },
 "nbformat": 4,
 "nbformat_minor": 1
}
